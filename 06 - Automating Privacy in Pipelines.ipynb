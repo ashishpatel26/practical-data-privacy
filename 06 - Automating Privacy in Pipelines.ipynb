{
 "cells": [
  {
   "cell_type": "code",
   "execution_count": 1,
   "id": "68219600",
   "metadata": {},
   "outputs": [],
   "source": [
    "import pandas as pd\n",
    "import scipy.stats as stats"
   ]
  },
  {
   "cell_type": "code",
   "execution_count": 2,
   "id": "b53d611e",
   "metadata": {},
   "outputs": [],
   "source": [
    "order_data = pd.read_csv('data/orders.csv')\n",
    "browser_data = pd.read_csv('data/browsing.csv')"
   ]
  },
  {
   "cell_type": "markdown",
   "id": "04d513c2",
   "metadata": {},
   "source": [
    "### Our Plan of Action\n",
    "\n",
    "- Remove personal identifiers with the exception of the user ID, which is hashed so that if marketing team comes back with specific questions, we can try to help answer them\n",
    "- If the user session came in with a tagged campaign, retain campaign information; otherwise leave blank\n",
    "- Retain billing city and state, as this was specifically asked for by the marketing department to effectively answer questions for their campaigns\n",
    "- Join order data and aggregate order quantity (number of orders) and order value (sum of quantities) per user\n",
    "- Bound outliers that have exceptionally large or small amounts of customer value (if needed, you can create a written summary of these for marketing review)"
   ]
  },
  {
   "cell_type": "code",
   "execution_count": 3,
   "id": "c838bf20",
   "metadata": {},
   "outputs": [
    {
     "data": {
      "text/html": [
       "<div>\n",
       "<style scoped>\n",
       "    .dataframe tbody tr th:only-of-type {\n",
       "        vertical-align: middle;\n",
       "    }\n",
       "\n",
       "    .dataframe tbody tr th {\n",
       "        vertical-align: top;\n",
       "    }\n",
       "\n",
       "    .dataframe thead th {\n",
       "        text-align: right;\n",
       "    }\n",
       "</style>\n",
       "<table border=\"1\" class=\"dataframe\">\n",
       "  <thead>\n",
       "    <tr style=\"text-align: right;\">\n",
       "      <th></th>\n",
       "      <th>order_number</th>\n",
       "      <th>user_id</th>\n",
       "      <th>email</th>\n",
       "      <th>street_address</th>\n",
       "      <th>city</th>\n",
       "      <th>state</th>\n",
       "      <th>num_items</th>\n",
       "      <th>total_price</th>\n",
       "      <th>timestamp</th>\n",
       "    </tr>\n",
       "  </thead>\n",
       "  <tbody>\n",
       "    <tr>\n",
       "      <th>0</th>\n",
       "      <td>762</td>\n",
       "      <td>teresamooney</td>\n",
       "      <td>monique63@example.org</td>\n",
       "      <td>37785 Sean Hill</td>\n",
       "      <td>Davidstad</td>\n",
       "      <td>North Dakota</td>\n",
       "      <td>3</td>\n",
       "      <td>154</td>\n",
       "      <td>2022-03-31T14:40:10.181427</td>\n",
       "    </tr>\n",
       "    <tr>\n",
       "      <th>1</th>\n",
       "      <td>842</td>\n",
       "      <td>ularson</td>\n",
       "      <td>gewing@example.net</td>\n",
       "      <td>4710 Hodge Lodge Apt. 479</td>\n",
       "      <td>Denisestad</td>\n",
       "      <td>Wisconsin</td>\n",
       "      <td>9</td>\n",
       "      <td>62</td>\n",
       "      <td>2022-04-03T23:40:18.181427</td>\n",
       "    </tr>\n",
       "    <tr>\n",
       "      <th>2</th>\n",
       "      <td>904</td>\n",
       "      <td>bhurley</td>\n",
       "      <td>lori57@example.com</td>\n",
       "      <td>73746 Howard Parks Suite 958</td>\n",
       "      <td>Jacksontown</td>\n",
       "      <td>Iowa</td>\n",
       "      <td>9</td>\n",
       "      <td>90</td>\n",
       "      <td>2022-04-07T09:41:08.181427</td>\n",
       "    </tr>\n",
       "    <tr>\n",
       "      <th>3</th>\n",
       "      <td>500</td>\n",
       "      <td>schneiderstephanie</td>\n",
       "      <td>shawnedwards@example.org</td>\n",
       "      <td>0700 Joshua Unions Suite 255</td>\n",
       "      <td>Donaldmouth</td>\n",
       "      <td>Colorado</td>\n",
       "      <td>9</td>\n",
       "      <td>38</td>\n",
       "      <td>2022-04-08T15:41:21.181427</td>\n",
       "    </tr>\n",
       "    <tr>\n",
       "      <th>4</th>\n",
       "      <td>643</td>\n",
       "      <td>gibsonchristina</td>\n",
       "      <td>elliottchad@example.net</td>\n",
       "      <td>1599 Miranda Estates</td>\n",
       "      <td>Breannahaven</td>\n",
       "      <td>Pennsylvania</td>\n",
       "      <td>9</td>\n",
       "      <td>30</td>\n",
       "      <td>2022-04-09T22:42:10.181427</td>\n",
       "    </tr>\n",
       "  </tbody>\n",
       "</table>\n",
       "</div>"
      ],
      "text/plain": [
       "   order_number             user_id                     email  \\\n",
       "0           762        teresamooney     monique63@example.org   \n",
       "1           842             ularson        gewing@example.net   \n",
       "2           904             bhurley        lori57@example.com   \n",
       "3           500  schneiderstephanie  shawnedwards@example.org   \n",
       "4           643     gibsonchristina   elliottchad@example.net   \n",
       "\n",
       "                 street_address          city         state  num_items  \\\n",
       "0               37785 Sean Hill     Davidstad  North Dakota          3   \n",
       "1     4710 Hodge Lodge Apt. 479    Denisestad     Wisconsin          9   \n",
       "2  73746 Howard Parks Suite 958   Jacksontown          Iowa          9   \n",
       "3  0700 Joshua Unions Suite 255   Donaldmouth      Colorado          9   \n",
       "4          1599 Miranda Estates  Breannahaven  Pennsylvania          9   \n",
       "\n",
       "   total_price                   timestamp  \n",
       "0          154  2022-03-31T14:40:10.181427  \n",
       "1           62  2022-04-03T23:40:18.181427  \n",
       "2           90  2022-04-07T09:41:08.181427  \n",
       "3           38  2022-04-08T15:41:21.181427  \n",
       "4           30  2022-04-09T22:42:10.181427  "
      ]
     },
     "execution_count": 3,
     "metadata": {},
     "output_type": "execute_result"
    }
   ],
   "source": [
    "order_data.head()"
   ]
  },
  {
   "cell_type": "code",
   "execution_count": 4,
   "id": "acfe06e9",
   "metadata": {
    "scrolled": false
   },
   "outputs": [
    {
     "data": {
      "text/html": [
       "<div>\n",
       "<style scoped>\n",
       "    .dataframe tbody tr th:only-of-type {\n",
       "        vertical-align: middle;\n",
       "    }\n",
       "\n",
       "    .dataframe tbody tr th {\n",
       "        vertical-align: top;\n",
       "    }\n",
       "\n",
       "    .dataframe thead th {\n",
       "        text-align: right;\n",
       "    }\n",
       "</style>\n",
       "<table border=\"1\" class=\"dataframe\">\n",
       "  <thead>\n",
       "    <tr style=\"text-align: right;\">\n",
       "      <th></th>\n",
       "      <th>order_number</th>\n",
       "      <th>inbound_uri</th>\n",
       "      <th>browser_agent</th>\n",
       "      <th>ip</th>\n",
       "      <th>timestamp</th>\n",
       "    </tr>\n",
       "  </thead>\n",
       "  <tbody>\n",
       "    <tr>\n",
       "      <th>0</th>\n",
       "      <td>476</td>\n",
       "      <td>house-boy-power</td>\n",
       "      <td>Mozilla/5.0 (Linux; Android 4.1) AppleWebKit/5...</td>\n",
       "      <td>108.26.206.60</td>\n",
       "      <td>2022-03-31T14:50:10.339167</td>\n",
       "    </tr>\n",
       "    <tr>\n",
       "      <th>1</th>\n",
       "      <td>840</td>\n",
       "      <td>tend-performance</td>\n",
       "      <td>Opera/9.84.(Windows CE; ia-FR) Presto/2.9.176 ...</td>\n",
       "      <td>29.209.182.218</td>\n",
       "      <td>2022-04-01T23:50:57.339167</td>\n",
       "    </tr>\n",
       "    <tr>\n",
       "      <th>2</th>\n",
       "      <td>833</td>\n",
       "      <td>impact-result-ten</td>\n",
       "      <td>Mozilla/5.0 (Windows NT 5.0; nds-DE; rv:1.9.1....</td>\n",
       "      <td>9.50.100.243</td>\n",
       "      <td>2022-04-04T09:51:39.339167</td>\n",
       "    </tr>\n",
       "    <tr>\n",
       "      <th>3</th>\n",
       "      <td>518</td>\n",
       "      <td>sometimes-during</td>\n",
       "      <td>Mozilla/5.0 (compatible; MSIE 5.0; Windows 95;...</td>\n",
       "      <td>57.176.97.149</td>\n",
       "      <td>2022-04-07T10:52:40.339167</td>\n",
       "    </tr>\n",
       "    <tr>\n",
       "      <th>4</th>\n",
       "      <td>288</td>\n",
       "      <td>result-north</td>\n",
       "      <td>Mozilla/5.0 (Windows; U; Windows CE) AppleWebK...</td>\n",
       "      <td>65.25.200.138</td>\n",
       "      <td>2022-04-09T20:53:25.339167</td>\n",
       "    </tr>\n",
       "  </tbody>\n",
       "</table>\n",
       "</div>"
      ],
      "text/plain": [
       "   order_number        inbound_uri  \\\n",
       "0           476    house-boy-power   \n",
       "1           840   tend-performance   \n",
       "2           833  impact-result-ten   \n",
       "3           518   sometimes-during   \n",
       "4           288       result-north   \n",
       "\n",
       "                                       browser_agent              ip  \\\n",
       "0  Mozilla/5.0 (Linux; Android 4.1) AppleWebKit/5...   108.26.206.60   \n",
       "1  Opera/9.84.(Windows CE; ia-FR) Presto/2.9.176 ...  29.209.182.218   \n",
       "2  Mozilla/5.0 (Windows NT 5.0; nds-DE; rv:1.9.1....    9.50.100.243   \n",
       "3  Mozilla/5.0 (compatible; MSIE 5.0; Windows 95;...   57.176.97.149   \n",
       "4  Mozilla/5.0 (Windows; U; Windows CE) AppleWebK...   65.25.200.138   \n",
       "\n",
       "                    timestamp  \n",
       "0  2022-03-31T14:50:10.339167  \n",
       "1  2022-04-01T23:50:57.339167  \n",
       "2  2022-04-04T09:51:39.339167  \n",
       "3  2022-04-07T10:52:40.339167  \n",
       "4  2022-04-09T20:53:25.339167  "
      ]
     },
     "execution_count": 4,
     "metadata": {},
     "output_type": "execute_result"
    }
   ],
   "source": [
    "browser_data.head()"
   ]
  },
  {
   "cell_type": "markdown",
   "id": "5c829ed2",
   "metadata": {},
   "source": [
    "### First we drop the unnecessary PII columns"
   ]
  },
  {
   "cell_type": "code",
   "execution_count": 5,
   "id": "d09a97fb",
   "metadata": {},
   "outputs": [],
   "source": [
    "browser_data = browser_data.drop(['browser_agent', 'ip'], axis=1)"
   ]
  },
  {
   "cell_type": "code",
   "execution_count": 6,
   "id": "b85ec592",
   "metadata": {},
   "outputs": [],
   "source": [
    "order_data = order_data.drop(['email', 'street_address'], axis=1)"
   ]
  },
  {
   "cell_type": "code",
   "execution_count": 7,
   "id": "1e083f5d",
   "metadata": {},
   "outputs": [],
   "source": [
    "browser_and_orders = browser_data.merge(order_data, how='inner', on=['order_number'], suffixes=('__browser','__order'))"
   ]
  },
  {
   "cell_type": "code",
   "execution_count": 8,
   "id": "142c0847",
   "metadata": {},
   "outputs": [
    {
     "data": {
      "text/html": [
       "<div>\n",
       "<style scoped>\n",
       "    .dataframe tbody tr th:only-of-type {\n",
       "        vertical-align: middle;\n",
       "    }\n",
       "\n",
       "    .dataframe tbody tr th {\n",
       "        vertical-align: top;\n",
       "    }\n",
       "\n",
       "    .dataframe thead th {\n",
       "        text-align: right;\n",
       "    }\n",
       "</style>\n",
       "<table border=\"1\" class=\"dataframe\">\n",
       "  <thead>\n",
       "    <tr style=\"text-align: right;\">\n",
       "      <th></th>\n",
       "      <th>order_number</th>\n",
       "      <th>inbound_uri</th>\n",
       "      <th>timestamp__browser</th>\n",
       "      <th>user_id</th>\n",
       "      <th>city</th>\n",
       "      <th>state</th>\n",
       "      <th>num_items</th>\n",
       "      <th>total_price</th>\n",
       "      <th>timestamp__order</th>\n",
       "    </tr>\n",
       "  </thead>\n",
       "  <tbody>\n",
       "    <tr>\n",
       "      <th>0</th>\n",
       "      <td>476</td>\n",
       "      <td>house-boy-power</td>\n",
       "      <td>2022-03-31T14:50:10.339167</td>\n",
       "      <td>mike27</td>\n",
       "      <td>Youngstad</td>\n",
       "      <td>New Mexico</td>\n",
       "      <td>7</td>\n",
       "      <td>174</td>\n",
       "      <td>2032-03-28T18:32:56.181427</td>\n",
       "    </tr>\n",
       "    <tr>\n",
       "      <th>1</th>\n",
       "      <td>476</td>\n",
       "      <td>house-boy-power</td>\n",
       "      <td>2022-03-31T14:50:10.339167</td>\n",
       "      <td>atkinsonscott</td>\n",
       "      <td>Port Ryan</td>\n",
       "      <td>Texas</td>\n",
       "      <td>6</td>\n",
       "      <td>126</td>\n",
       "      <td>2034-02-28T01:36:43.181427</td>\n",
       "    </tr>\n",
       "    <tr>\n",
       "      <th>2</th>\n",
       "      <td>476</td>\n",
       "      <td>house-boy-power</td>\n",
       "      <td>2022-03-31T14:50:10.339167</td>\n",
       "      <td>jefferyjohnson</td>\n",
       "      <td>New Richard</td>\n",
       "      <td>Minnesota</td>\n",
       "      <td>8</td>\n",
       "      <td>138</td>\n",
       "      <td>2035-10-14T09:10:52.181427</td>\n",
       "    </tr>\n",
       "    <tr>\n",
       "      <th>3</th>\n",
       "      <td>476</td>\n",
       "      <td>house-boy-power</td>\n",
       "      <td>2022-03-31T14:50:10.339167</td>\n",
       "      <td>jamesrivera</td>\n",
       "      <td>West Jesse</td>\n",
       "      <td>Tennessee</td>\n",
       "      <td>6</td>\n",
       "      <td>94</td>\n",
       "      <td>2045-08-11T06:45:31.181427</td>\n",
       "    </tr>\n",
       "    <tr>\n",
       "      <th>4</th>\n",
       "      <td>476</td>\n",
       "      <td>house-boy-power</td>\n",
       "      <td>2022-03-31T14:50:10.339167</td>\n",
       "      <td>bookerjack</td>\n",
       "      <td>South Johnland</td>\n",
       "      <td>Louisiana</td>\n",
       "      <td>9</td>\n",
       "      <td>182</td>\n",
       "      <td>2067-09-11T09:45:11.181427</td>\n",
       "    </tr>\n",
       "  </tbody>\n",
       "</table>\n",
       "</div>"
      ],
      "text/plain": [
       "   order_number      inbound_uri          timestamp__browser         user_id  \\\n",
       "0           476  house-boy-power  2022-03-31T14:50:10.339167          mike27   \n",
       "1           476  house-boy-power  2022-03-31T14:50:10.339167   atkinsonscott   \n",
       "2           476  house-boy-power  2022-03-31T14:50:10.339167  jefferyjohnson   \n",
       "3           476  house-boy-power  2022-03-31T14:50:10.339167     jamesrivera   \n",
       "4           476  house-boy-power  2022-03-31T14:50:10.339167      bookerjack   \n",
       "\n",
       "             city       state  num_items  total_price  \\\n",
       "0       Youngstad  New Mexico          7          174   \n",
       "1       Port Ryan       Texas          6          126   \n",
       "2     New Richard   Minnesota          8          138   \n",
       "3      West Jesse   Tennessee          6           94   \n",
       "4  South Johnland   Louisiana          9          182   \n",
       "\n",
       "             timestamp__order  \n",
       "0  2032-03-28T18:32:56.181427  \n",
       "1  2034-02-28T01:36:43.181427  \n",
       "2  2035-10-14T09:10:52.181427  \n",
       "3  2045-08-11T06:45:31.181427  \n",
       "4  2067-09-11T09:45:11.181427  "
      ]
     },
     "execution_count": 8,
     "metadata": {},
     "output_type": "execute_result"
    }
   ],
   "source": [
    "browser_and_orders.head()"
   ]
  },
  {
   "cell_type": "code",
   "execution_count": null,
   "id": "5b8d0e0d",
   "metadata": {},
   "outputs": [],
   "source": []
  },
  {
   "cell_type": "code",
   "execution_count": 9,
   "id": "098115f5",
   "metadata": {},
   "outputs": [],
   "source": [
    "summary_by_order = browser_and_orders.groupby('order_number').agg({'user_id':'first', \n",
    "                                                'city':'first', \n",
    "                                                'state':'first', \n",
    "                                                'num_items':'sum',\n",
    "                                                'total_price': 'sum',\n",
    "                                                'timestamp__order': 'first',\n",
    "                                                'inbound_uri': 'first'})"
   ]
  },
  {
   "cell_type": "code",
   "execution_count": 10,
   "id": "9b89073f",
   "metadata": {},
   "outputs": [
    {
     "data": {
      "text/html": [
       "<div>\n",
       "<style scoped>\n",
       "    .dataframe tbody tr th:only-of-type {\n",
       "        vertical-align: middle;\n",
       "    }\n",
       "\n",
       "    .dataframe tbody tr th {\n",
       "        vertical-align: top;\n",
       "    }\n",
       "\n",
       "    .dataframe thead th {\n",
       "        text-align: right;\n",
       "    }\n",
       "</style>\n",
       "<table border=\"1\" class=\"dataframe\">\n",
       "  <thead>\n",
       "    <tr style=\"text-align: right;\">\n",
       "      <th></th>\n",
       "      <th>user_id</th>\n",
       "      <th>city</th>\n",
       "      <th>state</th>\n",
       "      <th>num_items</th>\n",
       "      <th>total_price</th>\n",
       "      <th>timestamp__order</th>\n",
       "      <th>inbound_uri</th>\n",
       "    </tr>\n",
       "    <tr>\n",
       "      <th>order_number</th>\n",
       "      <th></th>\n",
       "      <th></th>\n",
       "      <th></th>\n",
       "      <th></th>\n",
       "      <th></th>\n",
       "      <th></th>\n",
       "      <th></th>\n",
       "    </tr>\n",
       "  </thead>\n",
       "  <tbody>\n",
       "    <tr>\n",
       "      <th>0</th>\n",
       "      <td>egarcia</td>\n",
       "      <td>North Alexander</td>\n",
       "      <td>Arizona</td>\n",
       "      <td>648</td>\n",
       "      <td>12288</td>\n",
       "      <td>2034-08-02T13:15:37.181427</td>\n",
       "      <td>or-become-in</td>\n",
       "    </tr>\n",
       "    <tr>\n",
       "      <th>1</th>\n",
       "      <td>youngnathaniel</td>\n",
       "      <td>Port Tara</td>\n",
       "      <td>Kansas</td>\n",
       "      <td>1104</td>\n",
       "      <td>18120</td>\n",
       "      <td>2029-01-09T19:39:19.181427</td>\n",
       "      <td>identify-enter</td>\n",
       "    </tr>\n",
       "    <tr>\n",
       "      <th>2</th>\n",
       "      <td>brooke22</td>\n",
       "      <td>Caseview</td>\n",
       "      <td>Delaware</td>\n",
       "      <td>924</td>\n",
       "      <td>25872</td>\n",
       "      <td>2023-03-31T13:23:30.181427</td>\n",
       "      <td>course-cost-the</td>\n",
       "    </tr>\n",
       "    <tr>\n",
       "      <th>3</th>\n",
       "      <td>qcherry</td>\n",
       "      <td>Lake Gregorymouth</td>\n",
       "      <td>North Carolina</td>\n",
       "      <td>700</td>\n",
       "      <td>9060</td>\n",
       "      <td>2025-12-18T00:53:31.181427</td>\n",
       "      <td>buy-be-choice-their</td>\n",
       "    </tr>\n",
       "    <tr>\n",
       "      <th>4</th>\n",
       "      <td>codyjohnson</td>\n",
       "      <td>Austinfurt</td>\n",
       "      <td>Nevada</td>\n",
       "      <td>410</td>\n",
       "      <td>7280</td>\n",
       "      <td>2027-12-01T23:59:49.181427</td>\n",
       "      <td>court-represent</td>\n",
       "    </tr>\n",
       "  </tbody>\n",
       "</table>\n",
       "</div>"
      ],
      "text/plain": [
       "                     user_id               city           state  num_items  \\\n",
       "order_number                                                                 \n",
       "0                    egarcia    North Alexander         Arizona        648   \n",
       "1             youngnathaniel          Port Tara          Kansas       1104   \n",
       "2                   brooke22           Caseview        Delaware        924   \n",
       "3                    qcherry  Lake Gregorymouth  North Carolina        700   \n",
       "4                codyjohnson         Austinfurt          Nevada        410   \n",
       "\n",
       "              total_price            timestamp__order          inbound_uri  \n",
       "order_number                                                                \n",
       "0                   12288  2034-08-02T13:15:37.181427         or-become-in  \n",
       "1                   18120  2029-01-09T19:39:19.181427       identify-enter  \n",
       "2                   25872  2023-03-31T13:23:30.181427      course-cost-the  \n",
       "3                    9060  2025-12-18T00:53:31.181427  buy-be-choice-their  \n",
       "4                    7280  2027-12-01T23:59:49.181427      court-represent  "
      ]
     },
     "execution_count": 10,
     "metadata": {},
     "output_type": "execute_result"
    }
   ],
   "source": [
    "summary_by_order.head()"
   ]
  },
  {
   "cell_type": "markdown",
   "id": "4e5e5677",
   "metadata": {},
   "source": [
    "### Encrypting the User ID"
   ]
  },
  {
   "cell_type": "code",
   "execution_count": 11,
   "id": "16c1a4f7",
   "metadata": {},
   "outputs": [
    {
     "data": {
      "text/plain": [
       "20"
      ]
     },
     "execution_count": 11,
     "metadata": {},
     "output_type": "execute_result"
    }
   ],
   "source": [
    "summary_by_order.user_id.map(lambda x: len(x)).max()"
   ]
  },
  {
   "cell_type": "code",
   "execution_count": 12,
   "id": "407ccfcb",
   "metadata": {},
   "outputs": [],
   "source": [
    "import string, random\n",
    "\n",
    "def genkey(length: int):\n",
    "    \"\"\"Generate key.\"\"\"\n",
    "    return \"\".join(random.choice(string.ascii_lowercase + \n",
    "                                 string.ascii_uppercase + \n",
    "                                 string.digits + \n",
    "                                 '[@_!#$%^&*()<>?/\\|}{~:]') for _ in range(length))\n",
    "\n",
    "def xor_strings(s, t):\n",
    "    \"\"\"xor two strings together.\"\"\"\n",
    "    if isinstance(s, str):\n",
    "        # Text strings contain single characters\n",
    "        return \"\".join(chr(ord(a) ^ ord(b)) for a, b in zip(s, t))\n",
    "    else:\n",
    "        # Bytes objects contain integer values in the range 0-255\n",
    "        return bytes([a ^ b for a, b in zip(s, t)])"
   ]
  },
  {
   "cell_type": "code",
   "execution_count": 13,
   "id": "74aa9fbf",
   "metadata": {},
   "outputs": [],
   "source": [
    "my_secret_key = genkey(20)"
   ]
  },
  {
   "cell_type": "code",
   "execution_count": 14,
   "id": "cf7046ae",
   "metadata": {},
   "outputs": [],
   "source": [
    "def xor_username(key, string):\n",
    "    if len(string) < 20:\n",
    "        string += ' ' * (20 - len(string))\n",
    "    return xor_strings(string, key)"
   ]
  },
  {
   "cell_type": "code",
   "execution_count": 15,
   "id": "3b2387ff",
   "metadata": {},
   "outputs": [],
   "source": [
    "summary_by_order['e_user_id'] = summary_by_order.user_id.map(lambda x: xor_username(my_secret_key, x))"
   ]
  },
  {
   "cell_type": "code",
   "execution_count": 16,
   "id": "1faebb61",
   "metadata": {},
   "outputs": [],
   "source": [
    "summary_by_order = summary_by_order.drop(['user_id'], axis=1)"
   ]
  },
  {
   "cell_type": "code",
   "execution_count": 17,
   "id": "51042a80",
   "metadata": {},
   "outputs": [
    {
     "data": {
      "text/plain": [
       "'youngnathaniel      '"
      ]
     },
     "execution_count": 17,
     "metadata": {},
     "output_type": "execute_result"
    }
   ],
   "source": [
    "xor_username(my_secret_key, summary_by_order['e_user_id'][1])"
   ]
  },
  {
   "cell_type": "code",
   "execution_count": null,
   "id": "3b792a65",
   "metadata": {},
   "outputs": [],
   "source": []
  },
  {
   "cell_type": "markdown",
   "id": "50ae7e54",
   "metadata": {},
   "source": [
    "### Key Safety\n",
    "\n",
    "What happens if we change or lose the key? :/ "
   ]
  },
  {
   "cell_type": "code",
   "execution_count": 18,
   "id": "397f84ab",
   "metadata": {},
   "outputs": [],
   "source": [
    "backup = my_secret_key"
   ]
  },
  {
   "cell_type": "code",
   "execution_count": 19,
   "id": "45f618f1",
   "metadata": {},
   "outputs": [],
   "source": [
    "my_secret_key = genkey(20)"
   ]
  },
  {
   "cell_type": "code",
   "execution_count": 20,
   "id": "0c821394",
   "metadata": {},
   "outputs": [
    {
     "data": {
      "text/plain": [
       "'LYYbw&\\n\\x10g_\\x1cga\\\\q/}N\\x1d6'"
      ]
     },
     "execution_count": 20,
     "metadata": {},
     "output_type": "execute_result"
    }
   ],
   "source": [
    "xor_username(my_secret_key, summary_by_order['e_user_id'][1])"
   ]
  },
  {
   "cell_type": "markdown",
   "id": "a1e9b9bb",
   "metadata": {},
   "source": [
    "### Finding Bounds and Outliers"
   ]
  },
  {
   "cell_type": "code",
   "execution_count": 18,
   "id": "4e0baf62",
   "metadata": {},
   "outputs": [
    {
     "data": {
      "text/plain": [
       "<AxesSubplot:>"
      ]
     },
     "execution_count": 18,
     "metadata": {},
     "output_type": "execute_result"
    },
    {
     "data": {
      "image/png": "[encoded data removed]",
      "text/plain": [
       "<Figure size 432x288 with 1 Axes>"
      ]
     },
     "metadata": {
      "needs_background": "light"
     },
     "output_type": "display_data"
    }
   ],
   "source": [
    "summary_by_order.total_price.hist(bins=80)"
   ]
  },
  {
   "cell_type": "code",
   "execution_count": 19,
   "id": "479358b2",
   "metadata": {},
   "outputs": [
    {
     "data": {
      "text/plain": [
       "<AxesSubplot:>"
      ]
     },
     "execution_count": 19,
     "metadata": {},
     "output_type": "execute_result"
    },
    {
     "data": {
      "image/png": "[encoded data removed]",
      "text/plain": [
       "<Figure size 432x288 with 1 Axes>"
      ]
     },
     "metadata": {
      "needs_background": "light"
     },
     "output_type": "display_data"
    }
   ],
   "source": [
    "summary_by_order['z-score'] = stats.zscore(list(summary_by_order.total_price))\n",
    "\n",
    "summary_by_order['z-score'].hist(bins=100)"
   ]
  },
  {
   "cell_type": "code",
   "execution_count": 20,
   "id": "79e27250",
   "metadata": {},
   "outputs": [
    {
     "data": {
      "text/plain": [
       "city                11\n",
       "state               11\n",
       "num_items           11\n",
       "total_price         11\n",
       "timestamp__order    11\n",
       "inbound_uri         11\n",
       "e_user_id           11\n",
       "z-score             11\n",
       "dtype: int64"
      ]
     },
     "execution_count": 20,
     "metadata": {},
     "output_type": "execute_result"
    }
   ],
   "source": [
    "summary_by_order[summary_by_order.total_price > 27000].count()"
   ]
  },
  {
   "cell_type": "code",
   "execution_count": 21,
   "id": "087cffa9",
   "metadata": {},
   "outputs": [
    {
     "data": {
      "text/plain": [
       "city                5\n",
       "state               5\n",
       "num_items           5\n",
       "total_price         5\n",
       "timestamp__order    5\n",
       "inbound_uri         5\n",
       "e_user_id           5\n",
       "z-score             5\n",
       "dtype: int64"
      ]
     },
     "execution_count": 21,
     "metadata": {},
     "output_type": "execute_result"
    }
   ],
   "source": [
    "summary_by_order[summary_by_order.total_price < 1500].count()"
   ]
  },
  {
   "cell_type": "code",
   "execution_count": 22,
   "id": "18cea16c",
   "metadata": {},
   "outputs": [],
   "source": [
    "def remove_order_outliers(total):\n",
    "    if total > 27000 or total < 1500:\n",
    "        # NOTE: we want to watch this over time if we rerun the report and make sure it is fitting.\n",
    "        # We could also normalize the data and use Interquartile Range (IQR) or Z-Scores \n",
    "        return True\n",
    "    return False"
   ]
  },
  {
   "cell_type": "code",
   "execution_count": 23,
   "id": "8c1e323b",
   "metadata": {},
   "outputs": [],
   "source": [
    "summary_by_order['remove'] = summary_by_order.total_price.map(remove_order_outliers)"
   ]
  },
  {
   "cell_type": "code",
   "execution_count": 24,
   "id": "1f98c0c0",
   "metadata": {},
   "outputs": [
    {
     "data": {
      "text/plain": [
       "city                1000\n",
       "state               1000\n",
       "num_items           1000\n",
       "total_price         1000\n",
       "timestamp__order    1000\n",
       "inbound_uri         1000\n",
       "e_user_id           1000\n",
       "z-score             1000\n",
       "remove              1000\n",
       "dtype: int64"
      ]
     },
     "execution_count": 24,
     "metadata": {},
     "output_type": "execute_result"
    }
   ],
   "source": [
    "summary_by_order.count()"
   ]
  },
  {
   "cell_type": "code",
   "execution_count": 25,
   "id": "0520e4a8",
   "metadata": {},
   "outputs": [],
   "source": [
    "summary_by_order = summary_by_order[summary_by_order['remove'] == False]"
   ]
  },
  {
   "cell_type": "code",
   "execution_count": 32,
   "id": "828ac8d4",
   "metadata": {},
   "outputs": [],
   "source": [
    "summary_by_order = summary_by_order.drop(['remove'], axis=1)"
   ]
  },
  {
   "cell_type": "markdown",
   "id": "0224a542",
   "metadata": {},
   "source": [
    "### Getting started with Great Expectations"
   ]
  },
  {
   "cell_type": "code",
   "execution_count": 27,
   "id": "f6934e11",
   "metadata": {},
   "outputs": [],
   "source": [
    "import great_expectations as ge\n",
    "context = ge.get_context()"
   ]
  },
  {
   "cell_type": "code",
   "execution_count": 34,
   "id": "5b60254a",
   "metadata": {},
   "outputs": [],
   "source": [
    "ge_df = ge.from_pandas(summary_by_order)"
   ]
  },
  {
   "cell_type": "code",
   "execution_count": 36,
   "id": "22198399",
   "metadata": {},
   "outputs": [
    {
     "data": {
      "text/plain": [
       "{\n",
       "  \"meta\": {},\n",
       "  \"exception_info\": {\n",
       "    \"raised_exception\": false,\n",
       "    \"exception_traceback\": null,\n",
       "    \"exception_message\": null\n",
       "  },\n",
       "  \"success\": true,\n",
       "  \"result\": {\n",
       "    \"element_count\": 984,\n",
       "    \"missing_count\": 0,\n",
       "    \"missing_percent\": 0.0,\n",
       "    \"unexpected_count\": 0,\n",
       "    \"unexpected_percent\": 0.0,\n",
       "    \"unexpected_percent_total\": 0.0,\n",
       "    \"unexpected_percent_nonmissing\": 0.0,\n",
       "    \"partial_unexpected_list\": []\n",
       "  }\n",
       "}"
      ]
     },
     "execution_count": 36,
     "metadata": {},
     "output_type": "execute_result"
    }
   ],
   "source": [
    "ge_df.expect_column_values_to_be_between('total_price', 1500, 27000)"
   ]
  },
  {
   "cell_type": "code",
   "execution_count": 37,
   "id": "b8210b0a",
   "metadata": {},
   "outputs": [
    {
     "name": "stdout",
     "output_type": "stream",
     "text": [
      "2022-05-11T10:27:20+0200 - INFO - \t1 expectation(s) included in expectation_suite. result_format settings filtered.\n"
     ]
    },
    {
     "data": {
      "text/plain": [
       "{\n",
       "  \"expectation_suite_name\": \"default\",\n",
       "  \"ge_cloud_id\": null,\n",
       "  \"meta\": {\n",
       "    \"great_expectations_version\": \"0.15.1\"\n",
       "  },\n",
       "  \"data_asset_type\": \"Dataset\",\n",
       "  \"expectations\": [\n",
       "    {\n",
       "      \"meta\": {},\n",
       "      \"kwargs\": {\n",
       "        \"column\": \"total_price\",\n",
       "        \"min_value\": 1500,\n",
       "        \"max_value\": 27000\n",
       "      },\n",
       "      \"expectation_type\": \"expect_column_values_to_be_between\"\n",
       "    }\n",
       "  ]\n",
       "}"
      ]
     },
     "execution_count": 37,
     "metadata": {},
     "output_type": "execute_result"
    }
   ],
   "source": [
    "ge_df.get_expectation_suite(discard_failed_expectations=False)\n"
   ]
  },
  {
   "cell_type": "code",
   "execution_count": 38,
   "id": "e4f8887f",
   "metadata": {},
   "outputs": [
    {
     "name": "stdout",
     "output_type": "stream",
     "text": [
      "2022-05-11T10:28:43+0200 - INFO - \t1 expectation(s) included in expectation_suite. result_format settings filtered.\n"
     ]
    }
   ],
   "source": [
    "import json\n",
    "with open(\"order_summary_for_sharing_expecation_file.json\", \"w\") as my_file:    \n",
    "    my_file.write(        \n",
    "        json.dumps(ge_df.get_expectation_suite().to_json_dict())\n",
    "    )"
   ]
  },
  {
   "cell_type": "code",
   "execution_count": 29,
   "id": "1aa7c622",
   "metadata": {},
   "outputs": [],
   "source": [
    "summary_by_order.to_csv('data/order_summary_for_sharing.csv')"
   ]
  }
 ],
 "metadata": {
  "kernelspec": {
   "display_name": "Python 3 (ipykernel)",
   "language": "python",
   "name": "python3"
  },
  "language_info": {
   "codemirror_mode": {
    "name": "ipython",
    "version": 3
   },
   "file_extension": ".py",
   "mimetype": "text/x-python",
   "name": "python",
   "nbconvert_exporter": "python",
   "pygments_lexer": "ipython3",
   "version": "3.8.9"
  }
 },
 "nbformat": 4,
 "nbformat_minor": 5
}
