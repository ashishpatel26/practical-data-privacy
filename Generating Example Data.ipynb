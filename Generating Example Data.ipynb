{
 "cells": [
  {
   "cell_type": "code",
   "execution_count": 7,
   "id": "fb7f6cb3",
   "metadata": {},
   "outputs": [],
   "source": [
    "from datetime import datetime, timedelta\n",
    "from datafuzz.generators import DatasetGenerator\n",
    "\n",
    "generator = DatasetGenerator({\n",
    "    'output': 'pandas',\n",
    "    'schema': {\n",
    "        'order_number': range(1000),\n",
    "        'user_id': 'faker.user_name',\n",
    "        'email': 'faker.email',\n",
    "        'street_address': 'faker.street_address',\n",
    "        'city': 'faker.city',\n",
    "        'state': 'faker.state',\n",
    "        'num_items': range(1,10),\n",
    "        'total_price': range(10, 200, 4)\n",
    "    },\n",
    "    'num_rows': 10000,\n",
    "    'start_time': datetime.now() - timedelta(days=20),\n",
    "    'output': 'dataset',\n",
    "    'increments': 'minutes',\n",
    "})\n",
    "\n",
    "generator.generate()\n",
    "\n",
    "order_dataset = generator.to_output()\n",
    "order_dataset.records.to_csv('data/orders.csv', index=False)"
   ]
  },
  {
   "cell_type": "code",
   "execution_count": 10,
   "id": "1c1e1bc6",
   "metadata": {},
   "outputs": [],
   "source": [
    "from datetime import datetime, timedelta\n",
    "from datafuzz.generators import DatasetGenerator\n",
    "\n",
    "generator = DatasetGenerator({\n",
    "    'output': 'pandas',\n",
    "    'schema': {\n",
    "        'order_number': range(1000),\n",
    "        'inbound_uri': 'faker.slug',\n",
    "        'browser_agent': 'faker.user_agent',\n",
    "        'ip': 'faker.ipv4',\n",
    "    },\n",
    "    'num_rows': 10000,\n",
    "    'start_time': datetime.now() - timedelta(days=20),\n",
    "    'output': 'dataset',\n",
    "    'increments': 'minutes',\n",
    "})\n",
    "\n",
    "generator.generate()\n",
    "\n",
    "browser_dataset = generator.to_output()\n",
    "browser_dataset.records.to_csv('data/browsing.csv', index=False)"
   ]
  },
  {
   "cell_type": "code",
   "execution_count": null,
   "id": "e05ca00e",
   "metadata": {},
   "outputs": [],
   "source": []
  }
 ],
 "metadata": {
  "kernelspec": {
   "display_name": "Python 3 (ipykernel)",
   "language": "python",
   "name": "python3"
  },
  "language_info": {
   "codemirror_mode": {
    "name": "ipython",
    "version": 3
   },
   "file_extension": ".py",
   "mimetype": "text/x-python",
   "name": "python",
   "nbconvert_exporter": "python",
   "pygments_lexer": "ipython3",
   "version": "3.8.9"
  }
 },
 "nbformat": 4,
 "nbformat_minor": 5
}
