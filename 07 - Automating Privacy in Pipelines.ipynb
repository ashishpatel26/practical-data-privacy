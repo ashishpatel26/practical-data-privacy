{
 "cells": [
  {
   "cell_type": "code",
   "execution_count": null,
   "id": "68219600",
   "metadata": {},
   "outputs": [],
   "source": [
    "import pandas as pd\n",
    "import scipy.stats as stats"
   ]
  },
  {
   "cell_type": "code",
   "execution_count": null,
   "id": "b53d611e",
   "metadata": {},
   "outputs": [],
   "source": [
    "order_data = pd.read_csv('data/orders.csv')\n",
    "browser_data = pd.read_csv('data/browsing.csv')"
   ]
  },
  {
   "cell_type": "markdown",
   "id": "04d513c2",
   "metadata": {},
   "source": [
    "### Our Plan of Action\n",
    "\n",
    "- Remove personal identifiers with the exception of the user ID, which is hashed so that if marketing team comes back with specific questions, we can try to help answer them\n",
    "- If the user session came in with a tagged campaign, retain campaign information; otherwise leave blank\n",
    "- Retain billing city and state, as this was specifically asked for by the marketing department to effectively answer questions for their campaigns\n",
    "- Join order data and aggregate order quantity (number of orders) and order value (sum of quantities) per user\n",
    "- Bound outliers that have exceptionally large or small amounts of customer value (if needed, you can create a written summary of these for marketing review)"
   ]
  },
  {
   "cell_type": "code",
   "execution_count": null,
   "id": "c838bf20",
   "metadata": {},
   "outputs": [],
   "source": [
    "order_data.head()"
   ]
  },
  {
   "cell_type": "code",
   "execution_count": null,
   "id": "acfe06e9",
   "metadata": {
    "scrolled": false
   },
   "outputs": [],
   "source": [
    "browser_data.head()"
   ]
  },
  {
   "cell_type": "markdown",
   "id": "5c829ed2",
   "metadata": {},
   "source": [
    "### First we drop the unnecessary PII columns"
   ]
  },
  {
   "cell_type": "code",
   "execution_count": null,
   "id": "d09a97fb",
   "metadata": {},
   "outputs": [],
   "source": [
    "browser_data = browser_data.drop(['browser_agent', 'ip'], axis=1)"
   ]
  },
  {
   "cell_type": "code",
   "execution_count": null,
   "id": "b85ec592",
   "metadata": {},
   "outputs": [],
   "source": [
    "order_data = order_data.drop(['email', 'street_address'], axis=1)"
   ]
  },
  {
   "cell_type": "code",
   "execution_count": null,
   "id": "1e083f5d",
   "metadata": {},
   "outputs": [],
   "source": [
    "browser_and_orders = browser_data.merge(order_data, how='inner', on=['order_number'], \n",
    "                                        suffixes=('__browser','__order'))"
   ]
  },
  {
   "cell_type": "code",
   "execution_count": null,
   "id": "142c0847",
   "metadata": {},
   "outputs": [],
   "source": [
    "browser_and_orders.head()"
   ]
  },
  {
   "cell_type": "code",
   "execution_count": null,
   "id": "5b8d0e0d",
   "metadata": {},
   "outputs": [],
   "source": []
  },
  {
   "cell_type": "code",
   "execution_count": null,
   "id": "098115f5",
   "metadata": {},
   "outputs": [],
   "source": [
    "summary_by_order = browser_and_orders.groupby('order_number').agg({'user_id':'first', \n",
    "                                                'city':'first', \n",
    "                                                'state':'first', \n",
    "                                                'num_items':'sum',\n",
    "                                                'total_price': 'sum',\n",
    "                                                'timestamp__order': 'first',\n",
    "                                                'inbound_uri': 'first'})"
   ]
  },
  {
   "cell_type": "code",
   "execution_count": null,
   "id": "9b89073f",
   "metadata": {},
   "outputs": [],
   "source": [
    "summary_by_order.head()"
   ]
  },
  {
   "cell_type": "markdown",
   "id": "4e5e5677",
   "metadata": {},
   "source": [
    "### Encrypting the User ID"
   ]
  },
  {
   "cell_type": "code",
   "execution_count": null,
   "id": "16c1a4f7",
   "metadata": {},
   "outputs": [],
   "source": [
    "summary_by_order.user_id.map(lambda x: len(x)).max()"
   ]
  },
  {
   "cell_type": "code",
   "execution_count": null,
   "id": "407ccfcb",
   "metadata": {},
   "outputs": [],
   "source": [
    "import string, random\n",
    "\n",
    "def genkey(length: int):\n",
    "    \"\"\"Generate key.\"\"\"\n",
    "    return \"\".join(random.choice(string.ascii_lowercase + \n",
    "                                 string.ascii_uppercase + \n",
    "                                 string.digits + \n",
    "                                 '[@_!#$%^&*()<>?/\\|}{~:]') for _ in range(length))\n",
    "\n",
    "def xor_strings(s, t):\n",
    "    \"\"\"xor two strings together.\"\"\"\n",
    "    if isinstance(s, str):\n",
    "        # Text strings contain single characters\n",
    "        return \"\".join(chr(ord(a) ^ ord(b)) for a, b in zip(s, t))\n",
    "    else:\n",
    "        # Bytes objects contain integer values in the range 0-255\n",
    "        return bytes([a ^ b for a, b in zip(s, t)])"
   ]
  },
  {
   "cell_type": "code",
   "execution_count": null,
   "id": "74aa9fbf",
   "metadata": {},
   "outputs": [],
   "source": [
    "my_secret_key = genkey(20)"
   ]
  },
  {
   "cell_type": "code",
   "execution_count": null,
   "id": "cf7046ae",
   "metadata": {},
   "outputs": [],
   "source": [
    "def xor_username(key, string):\n",
    "    if len(string) < 20:\n",
    "        string += ' ' * (20 - len(string))\n",
    "    return xor_strings(string, key)"
   ]
  },
  {
   "cell_type": "code",
   "execution_count": null,
   "id": "3b2387ff",
   "metadata": {},
   "outputs": [],
   "source": [
    "summary_by_order['e_user_id'] = summary_by_order.user_id.map(lambda x: xor_username(my_secret_key, x))"
   ]
  },
  {
   "cell_type": "code",
   "execution_count": null,
   "id": "1faebb61",
   "metadata": {},
   "outputs": [],
   "source": [
    "summary_by_order = summary_by_order.drop(['user_id'], axis=1)"
   ]
  },
  {
   "cell_type": "code",
   "execution_count": null,
   "id": "51042a80",
   "metadata": {},
   "outputs": [],
   "source": [
    "xor_username(my_secret_key, summary_by_order['e_user_id'][1])"
   ]
  },
  {
   "cell_type": "code",
   "execution_count": null,
   "id": "3b792a65",
   "metadata": {},
   "outputs": [],
   "source": []
  },
  {
   "cell_type": "markdown",
   "id": "50ae7e54",
   "metadata": {},
   "source": [
    "### Key Safety\n",
    "\n",
    "What happens if we change or lose the key? :/ "
   ]
  },
  {
   "cell_type": "code",
   "execution_count": null,
   "id": "397f84ab",
   "metadata": {},
   "outputs": [],
   "source": [
    "backup = my_secret_key"
   ]
  },
  {
   "cell_type": "code",
   "execution_count": null,
   "id": "45f618f1",
   "metadata": {},
   "outputs": [],
   "source": [
    "my_secret_key = genkey(20)"
   ]
  },
  {
   "cell_type": "code",
   "execution_count": null,
   "id": "0c821394",
   "metadata": {},
   "outputs": [],
   "source": [
    "xor_username(my_secret_key, summary_by_order['e_user_id'][1])"
   ]
  },
  {
   "cell_type": "markdown",
   "id": "a1e9b9bb",
   "metadata": {},
   "source": [
    "### Finding Bounds and Outliers"
   ]
  },
  {
   "cell_type": "code",
   "execution_count": null,
   "id": "4e0baf62",
   "metadata": {},
   "outputs": [],
   "source": [
    "summary_by_order.total_price.hist(bins=80)"
   ]
  },
  {
   "cell_type": "code",
   "execution_count": null,
   "id": "479358b2",
   "metadata": {},
   "outputs": [],
   "source": [
    "summary_by_order['z-score'] = stats.zscore(list(summary_by_order.total_price))\n",
    "\n",
    "summary_by_order['z-score'].hist(bins=100)"
   ]
  },
  {
   "cell_type": "code",
   "execution_count": null,
   "id": "79e27250",
   "metadata": {},
   "outputs": [],
   "source": [
    "summary_by_order[summary_by_order.total_price > 27000].count()"
   ]
  },
  {
   "cell_type": "code",
   "execution_count": null,
   "id": "087cffa9",
   "metadata": {},
   "outputs": [],
   "source": [
    "summary_by_order[summary_by_order.total_price < 1500].count()"
   ]
  },
  {
   "cell_type": "code",
   "execution_count": null,
   "id": "18cea16c",
   "metadata": {},
   "outputs": [],
   "source": [
    "def remove_order_outliers(total):\n",
    "    if total > 27000 or total < 1500:\n",
    "        # NOTE: we want to watch this over time if we rerun the report and make sure it is fitting.\n",
    "        # We could also normalize the data and use Interquartile Range (IQR) or Z-Scores \n",
    "        return True\n",
    "    return False"
   ]
  },
  {
   "cell_type": "code",
   "execution_count": null,
   "id": "8c1e323b",
   "metadata": {},
   "outputs": [],
   "source": [
    "summary_by_order['remove'] = summary_by_order.total_price.map(remove_order_outliers)"
   ]
  },
  {
   "cell_type": "code",
   "execution_count": null,
   "id": "1f98c0c0",
   "metadata": {},
   "outputs": [],
   "source": [
    "summary_by_order.count()"
   ]
  },
  {
   "cell_type": "code",
   "execution_count": null,
   "id": "0520e4a8",
   "metadata": {},
   "outputs": [],
   "source": [
    "summary_by_order = summary_by_order[summary_by_order['remove'] == False]"
   ]
  },
  {
   "cell_type": "code",
   "execution_count": null,
   "id": "828ac8d4",
   "metadata": {},
   "outputs": [],
   "source": [
    "summary_by_order = summary_by_order.drop(['remove'], axis=1)"
   ]
  },
  {
   "cell_type": "markdown",
   "id": "0224a542",
   "metadata": {},
   "source": [
    "### Getting started with Great Expectations"
   ]
  },
  {
   "cell_type": "code",
   "execution_count": null,
   "id": "f6934e11",
   "metadata": {},
   "outputs": [],
   "source": [
    "import great_expectations as ge\n",
    "context = ge.get_context()"
   ]
  },
  {
   "cell_type": "code",
   "execution_count": null,
   "id": "5b60254a",
   "metadata": {},
   "outputs": [],
   "source": [
    "ge_df = ge.from_pandas(summary_by_order)"
   ]
  },
  {
   "cell_type": "code",
   "execution_count": null,
   "id": "22198399",
   "metadata": {},
   "outputs": [],
   "source": [
    "ge_df.expect_column_values_to_be_between('total_price', 1500, 27000)"
   ]
  },
  {
   "cell_type": "code",
   "execution_count": null,
   "id": "b8210b0a",
   "metadata": {},
   "outputs": [],
   "source": [
    "ge_df.get_expectation_suite(discard_failed_expectations=False)\n"
   ]
  },
  {
   "cell_type": "code",
   "execution_count": null,
   "id": "e4f8887f",
   "metadata": {},
   "outputs": [],
   "source": [
    "import json\n",
    "with open(\"order_summary_for_sharing_expecation_file.json\", \"w\") as my_file:    \n",
    "    my_file.write(        \n",
    "        json.dumps(ge_df.get_expectation_suite().to_json_dict())\n",
    "    )"
   ]
  },
  {
   "cell_type": "code",
   "execution_count": null,
   "id": "1aa7c622",
   "metadata": {},
   "outputs": [],
   "source": [
    "summary_by_order.to_csv('data/order_summary_for_sharing.csv')"
   ]
  }
 ],
 "metadata": {
  "kernelspec": {
   "display_name": "Python 3 (ipykernel)",
   "language": "python",
   "name": "python3"
  },
  "language_info": {
   "codemirror_mode": {
    "name": "ipython",
    "version": 3
   },
   "file_extension": ".py",
   "mimetype": "text/x-python",
   "name": "python",
   "nbconvert_exporter": "python",
   "pygments_lexer": "ipython3",
   "version": "3.8.9"
  }
 },
 "nbformat": 4,
 "nbformat_minor": 5
}
