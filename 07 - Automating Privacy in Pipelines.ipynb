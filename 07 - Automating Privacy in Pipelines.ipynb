{
 "cells": [
  {
   "cell_type": "code",
   "execution_count": 1,
   "id": "68219600",
   "metadata": {},
   "outputs": [],
   "source": [
    "import pandas as pd\n",
    "import scipy.stats as stats"
   ]
  },
  {
   "cell_type": "code",
   "execution_count": 2,
   "id": "b53d611e",
   "metadata": {},
   "outputs": [],
   "source": [
    "order_data = pd.read_csv('data/orders.csv')\n",
    "browser_data = pd.read_csv('data/browsing.csv')"
   ]
  },
  {
   "cell_type": "markdown",
   "id": "04d513c2",
   "metadata": {},
   "source": [
    "### Our Plan of Action\n",
    "\n",
    "- Remove personal identifiers with the exception of the user ID, which is hashed so that if marketing team comes back with specific questions, we can try to help answer them\n",
    "- If the user session came in with a tagged campaign, retain campaign information; otherwise leave blank\n",
    "- Retain billing city and state, as this was specifically asked for by the marketing department to effectively answer questions for their campaigns\n",
    "- Join order data and aggregate order quantity (number of orders) and order value (sum of quantities) per user\n",
    "- Bound outliers that have exceptionally large or small amounts of customer value (if needed, you can create a written summary of these for marketing review)"
   ]
  },
  {
   "cell_type": "code",
   "execution_count": 3,
   "id": "c838bf20",
   "metadata": {},
   "outputs": [
    {
     "data": {
      "text/html": [
       "<div>\n",
       "<style scoped>\n",
       "    .dataframe tbody tr th:only-of-type {\n",
       "        vertical-align: middle;\n",
       "    }\n",
       "\n",
       "    .dataframe tbody tr th {\n",
       "        vertical-align: top;\n",
       "    }\n",
       "\n",
       "    .dataframe thead th {\n",
       "        text-align: right;\n",
       "    }\n",
       "</style>\n",
       "<table border=\"1\" class=\"dataframe\">\n",
       "  <thead>\n",
       "    <tr style=\"text-align: right;\">\n",
       "      <th></th>\n",
       "      <th>order_number</th>\n",
       "      <th>user_id</th>\n",
       "      <th>email</th>\n",
       "      <th>street_address</th>\n",
       "      <th>city</th>\n",
       "      <th>state</th>\n",
       "      <th>num_items</th>\n",
       "      <th>total_price</th>\n",
       "      <th>timestamp</th>\n",
       "    </tr>\n",
       "  </thead>\n",
       "  <tbody>\n",
       "    <tr>\n",
       "      <th>0</th>\n",
       "      <td>754</td>\n",
       "      <td>roy50</td>\n",
       "      <td>margaretwalker@example.com</td>\n",
       "      <td>8222 Jared Plains Suite 489</td>\n",
       "      <td>Millerfurt</td>\n",
       "      <td>Delaware</td>\n",
       "      <td>4</td>\n",
       "      <td>162</td>\n",
       "      <td>2022-07-31T13:53:42.176704</td>\n",
       "    </tr>\n",
       "    <tr>\n",
       "      <th>1</th>\n",
       "      <td>371</td>\n",
       "      <td>handerson</td>\n",
       "      <td>james63@example.org</td>\n",
       "      <td>39972 Isabella Haven Suite 670</td>\n",
       "      <td>Farrellport</td>\n",
       "      <td>Oklahoma</td>\n",
       "      <td>3</td>\n",
       "      <td>42</td>\n",
       "      <td>2022-08-03T17:54:12.176704</td>\n",
       "    </tr>\n",
       "    <tr>\n",
       "      <th>2</th>\n",
       "      <td>376</td>\n",
       "      <td>william55</td>\n",
       "      <td>sotopatricia@example.net</td>\n",
       "      <td>4418 Raymond Club</td>\n",
       "      <td>West Andreafort</td>\n",
       "      <td>Illinois</td>\n",
       "      <td>8</td>\n",
       "      <td>198</td>\n",
       "      <td>2022-08-05T18:54:45.176704</td>\n",
       "    </tr>\n",
       "    <tr>\n",
       "      <th>3</th>\n",
       "      <td>431</td>\n",
       "      <td>uking</td>\n",
       "      <td>cponce@example.com</td>\n",
       "      <td>369 Angela Green Suite 649</td>\n",
       "      <td>Whitemouth</td>\n",
       "      <td>Tennessee</td>\n",
       "      <td>6</td>\n",
       "      <td>90</td>\n",
       "      <td>2022-08-06T20:55:01.176704</td>\n",
       "    </tr>\n",
       "    <tr>\n",
       "      <th>4</th>\n",
       "      <td>713</td>\n",
       "      <td>tiffany94</td>\n",
       "      <td>kingelizabeth@example.net</td>\n",
       "      <td>3030 Kerr Streets Apt. 695</td>\n",
       "      <td>Hamptonhaven</td>\n",
       "      <td>Indiana</td>\n",
       "      <td>5</td>\n",
       "      <td>62</td>\n",
       "      <td>2022-08-09T22:55:50.176704</td>\n",
       "    </tr>\n",
       "  </tbody>\n",
       "</table>\n",
       "</div>"
      ],
      "text/plain": [
       "   order_number    user_id                       email  \\\n",
       "0           754      roy50  margaretwalker@example.com   \n",
       "1           371  handerson         james63@example.org   \n",
       "2           376  william55    sotopatricia@example.net   \n",
       "3           431      uking          cponce@example.com   \n",
       "4           713  tiffany94   kingelizabeth@example.net   \n",
       "\n",
       "                   street_address             city      state  num_items  \\\n",
       "0     8222 Jared Plains Suite 489       Millerfurt   Delaware          4   \n",
       "1  39972 Isabella Haven Suite 670      Farrellport   Oklahoma          3   \n",
       "2               4418 Raymond Club  West Andreafort   Illinois          8   \n",
       "3      369 Angela Green Suite 649       Whitemouth  Tennessee          6   \n",
       "4      3030 Kerr Streets Apt. 695     Hamptonhaven    Indiana          5   \n",
       "\n",
       "   total_price                   timestamp  \n",
       "0          162  2022-07-31T13:53:42.176704  \n",
       "1           42  2022-08-03T17:54:12.176704  \n",
       "2          198  2022-08-05T18:54:45.176704  \n",
       "3           90  2022-08-06T20:55:01.176704  \n",
       "4           62  2022-08-09T22:55:50.176704  "
      ]
     },
     "execution_count": 3,
     "metadata": {},
     "output_type": "execute_result"
    }
   ],
   "source": [
    "order_data.head()"
   ]
  },
  {
   "cell_type": "code",
   "execution_count": 4,
   "id": "acfe06e9",
   "metadata": {
    "scrolled": false
   },
   "outputs": [
    {
     "data": {
      "text/html": [
       "<div>\n",
       "<style scoped>\n",
       "    .dataframe tbody tr th:only-of-type {\n",
       "        vertical-align: middle;\n",
       "    }\n",
       "\n",
       "    .dataframe tbody tr th {\n",
       "        vertical-align: top;\n",
       "    }\n",
       "\n",
       "    .dataframe thead th {\n",
       "        text-align: right;\n",
       "    }\n",
       "</style>\n",
       "<table border=\"1\" class=\"dataframe\">\n",
       "  <thead>\n",
       "    <tr style=\"text-align: right;\">\n",
       "      <th></th>\n",
       "      <th>order_number</th>\n",
       "      <th>inbound_uri</th>\n",
       "      <th>browser_agent</th>\n",
       "      <th>ip</th>\n",
       "      <th>timestamp</th>\n",
       "    </tr>\n",
       "  </thead>\n",
       "  <tbody>\n",
       "    <tr>\n",
       "      <th>0</th>\n",
       "      <td>9</td>\n",
       "      <td>weight-likely</td>\n",
       "      <td>Mozilla/5.0 (Macintosh; PPC Mac OS X 10_11_8; ...</td>\n",
       "      <td>199.252.41.214</td>\n",
       "      <td>2022-07-31T13:53:49.548290</td>\n",
       "    </tr>\n",
       "    <tr>\n",
       "      <th>1</th>\n",
       "      <td>441</td>\n",
       "      <td>position-report</td>\n",
       "      <td>Opera/9.44.(X11; Linux x86_64; gv-GB) Presto/2...</td>\n",
       "      <td>179.25.93.144</td>\n",
       "      <td>2022-08-03T17:54:25.548290</td>\n",
       "    </tr>\n",
       "    <tr>\n",
       "      <th>2</th>\n",
       "      <td>72</td>\n",
       "      <td>tough-age-growth</td>\n",
       "      <td>Mozilla/5.0 (Windows; U; Windows NT 5.0) Apple...</td>\n",
       "      <td>125.124.68.154</td>\n",
       "      <td>2022-08-05T18:55:27.548290</td>\n",
       "    </tr>\n",
       "    <tr>\n",
       "      <th>3</th>\n",
       "      <td>168</td>\n",
       "      <td>way-right-century</td>\n",
       "      <td>Mozilla/5.0 (compatible; MSIE 6.0; Windows 98;...</td>\n",
       "      <td>22.43.48.185</td>\n",
       "      <td>2022-08-08T20:55:59.548290</td>\n",
       "    </tr>\n",
       "    <tr>\n",
       "      <th>4</th>\n",
       "      <td>539</td>\n",
       "      <td>event-might-society</td>\n",
       "      <td>Mozilla/5.0 (iPhone; CPU iPhone OS 7_1_2 like ...</td>\n",
       "      <td>30.219.140.88</td>\n",
       "      <td>2022-08-10T23:57:01.548290</td>\n",
       "    </tr>\n",
       "  </tbody>\n",
       "</table>\n",
       "</div>"
      ],
      "text/plain": [
       "   order_number          inbound_uri  \\\n",
       "0             9        weight-likely   \n",
       "1           441      position-report   \n",
       "2            72     tough-age-growth   \n",
       "3           168    way-right-century   \n",
       "4           539  event-might-society   \n",
       "\n",
       "                                       browser_agent              ip  \\\n",
       "0  Mozilla/5.0 (Macintosh; PPC Mac OS X 10_11_8; ...  199.252.41.214   \n",
       "1  Opera/9.44.(X11; Linux x86_64; gv-GB) Presto/2...   179.25.93.144   \n",
       "2  Mozilla/5.0 (Windows; U; Windows NT 5.0) Apple...  125.124.68.154   \n",
       "3  Mozilla/5.0 (compatible; MSIE 6.0; Windows 98;...    22.43.48.185   \n",
       "4  Mozilla/5.0 (iPhone; CPU iPhone OS 7_1_2 like ...   30.219.140.88   \n",
       "\n",
       "                    timestamp  \n",
       "0  2022-07-31T13:53:49.548290  \n",
       "1  2022-08-03T17:54:25.548290  \n",
       "2  2022-08-05T18:55:27.548290  \n",
       "3  2022-08-08T20:55:59.548290  \n",
       "4  2022-08-10T23:57:01.548290  "
      ]
     },
     "execution_count": 4,
     "metadata": {},
     "output_type": "execute_result"
    }
   ],
   "source": [
    "browser_data.head()"
   ]
  },
  {
   "cell_type": "markdown",
   "id": "5c829ed2",
   "metadata": {},
   "source": [
    "### First we drop the unnecessary PII columns"
   ]
  },
  {
   "cell_type": "code",
   "execution_count": 5,
   "id": "d09a97fb",
   "metadata": {},
   "outputs": [],
   "source": [
    "browser_data = browser_data.drop(['browser_agent', 'ip'], axis=1)"
   ]
  },
  {
   "cell_type": "code",
   "execution_count": 6,
   "id": "b85ec592",
   "metadata": {},
   "outputs": [],
   "source": [
    "order_data = order_data.drop(['email', 'street_address'], axis=1)"
   ]
  },
  {
   "cell_type": "code",
   "execution_count": 7,
   "id": "1e083f5d",
   "metadata": {},
   "outputs": [],
   "source": [
    "browser_and_orders = browser_data.merge(order_data, how='inner', on=['order_number'], \n",
    "                                        suffixes=('__browser','__order'))"
   ]
  },
  {
   "cell_type": "code",
   "execution_count": 8,
   "id": "142c0847",
   "metadata": {},
   "outputs": [
    {
     "data": {
      "text/html": [
       "<div>\n",
       "<style scoped>\n",
       "    .dataframe tbody tr th:only-of-type {\n",
       "        vertical-align: middle;\n",
       "    }\n",
       "\n",
       "    .dataframe tbody tr th {\n",
       "        vertical-align: top;\n",
       "    }\n",
       "\n",
       "    .dataframe thead th {\n",
       "        text-align: right;\n",
       "    }\n",
       "</style>\n",
       "<table border=\"1\" class=\"dataframe\">\n",
       "  <thead>\n",
       "    <tr style=\"text-align: right;\">\n",
       "      <th></th>\n",
       "      <th>order_number</th>\n",
       "      <th>inbound_uri</th>\n",
       "      <th>timestamp__browser</th>\n",
       "      <th>user_id</th>\n",
       "      <th>city</th>\n",
       "      <th>state</th>\n",
       "      <th>num_items</th>\n",
       "      <th>total_price</th>\n",
       "      <th>timestamp__order</th>\n",
       "    </tr>\n",
       "  </thead>\n",
       "  <tbody>\n",
       "    <tr>\n",
       "      <th>0</th>\n",
       "      <td>9</td>\n",
       "      <td>weight-likely</td>\n",
       "      <td>2022-07-31T13:53:49.548290</td>\n",
       "      <td>qgeorge</td>\n",
       "      <td>New Beth</td>\n",
       "      <td>Virginia</td>\n",
       "      <td>2</td>\n",
       "      <td>198</td>\n",
       "      <td>2024-02-17T09:17:44.176704</td>\n",
       "    </tr>\n",
       "    <tr>\n",
       "      <th>1</th>\n",
       "      <td>9</td>\n",
       "      <td>weight-likely</td>\n",
       "      <td>2022-07-31T13:53:49.548290</td>\n",
       "      <td>ilarsen</td>\n",
       "      <td>West Drewfort</td>\n",
       "      <td>Texas</td>\n",
       "      <td>4</td>\n",
       "      <td>162</td>\n",
       "      <td>2030-02-05T06:27:23.176704</td>\n",
       "    </tr>\n",
       "    <tr>\n",
       "      <th>2</th>\n",
       "      <td>9</td>\n",
       "      <td>weight-likely</td>\n",
       "      <td>2022-07-31T13:53:49.548290</td>\n",
       "      <td>kelliott</td>\n",
       "      <td>Conniemouth</td>\n",
       "      <td>Georgia</td>\n",
       "      <td>3</td>\n",
       "      <td>106</td>\n",
       "      <td>2035-02-11T03:07:40.176704</td>\n",
       "    </tr>\n",
       "    <tr>\n",
       "      <th>3</th>\n",
       "      <td>9</td>\n",
       "      <td>weight-likely</td>\n",
       "      <td>2022-07-31T13:53:49.548290</td>\n",
       "      <td>angela76</td>\n",
       "      <td>Brownville</td>\n",
       "      <td>South Dakota</td>\n",
       "      <td>6</td>\n",
       "      <td>22</td>\n",
       "      <td>2043-03-24T10:33:55.176704</td>\n",
       "    </tr>\n",
       "    <tr>\n",
       "      <th>4</th>\n",
       "      <td>9</td>\n",
       "      <td>weight-likely</td>\n",
       "      <td>2022-07-31T13:53:49.548290</td>\n",
       "      <td>adrianhughes</td>\n",
       "      <td>Murphyhaven</td>\n",
       "      <td>Arizona</td>\n",
       "      <td>3</td>\n",
       "      <td>30</td>\n",
       "      <td>2058-07-13T21:12:02.176704</td>\n",
       "    </tr>\n",
       "  </tbody>\n",
       "</table>\n",
       "</div>"
      ],
      "text/plain": [
       "   order_number    inbound_uri          timestamp__browser       user_id  \\\n",
       "0             9  weight-likely  2022-07-31T13:53:49.548290       qgeorge   \n",
       "1             9  weight-likely  2022-07-31T13:53:49.548290       ilarsen   \n",
       "2             9  weight-likely  2022-07-31T13:53:49.548290      kelliott   \n",
       "3             9  weight-likely  2022-07-31T13:53:49.548290      angela76   \n",
       "4             9  weight-likely  2022-07-31T13:53:49.548290  adrianhughes   \n",
       "\n",
       "            city         state  num_items  total_price  \\\n",
       "0       New Beth      Virginia          2          198   \n",
       "1  West Drewfort         Texas          4          162   \n",
       "2    Conniemouth       Georgia          3          106   \n",
       "3     Brownville  South Dakota          6           22   \n",
       "4    Murphyhaven       Arizona          3           30   \n",
       "\n",
       "             timestamp__order  \n",
       "0  2024-02-17T09:17:44.176704  \n",
       "1  2030-02-05T06:27:23.176704  \n",
       "2  2035-02-11T03:07:40.176704  \n",
       "3  2043-03-24T10:33:55.176704  \n",
       "4  2058-07-13T21:12:02.176704  "
      ]
     },
     "execution_count": 8,
     "metadata": {},
     "output_type": "execute_result"
    }
   ],
   "source": [
    "browser_and_orders.head()"
   ]
  },
  {
   "cell_type": "code",
   "execution_count": null,
   "id": "5b8d0e0d",
   "metadata": {},
   "outputs": [],
   "source": []
  },
  {
   "cell_type": "code",
   "execution_count": 9,
   "id": "098115f5",
   "metadata": {},
   "outputs": [],
   "source": [
    "summary_by_order = browser_and_orders.groupby('order_number').agg({'user_id':'first', \n",
    "                                                'city':'first', \n",
    "                                                'state':'first', \n",
    "                                                'num_items':'sum',\n",
    "                                                'total_price': 'sum',\n",
    "                                                'timestamp__order': 'first',\n",
    "                                                'inbound_uri': 'first'})"
   ]
  },
  {
   "cell_type": "code",
   "execution_count": 10,
   "id": "9b89073f",
   "metadata": {},
   "outputs": [
    {
     "data": {
      "text/html": [
       "<div>\n",
       "<style scoped>\n",
       "    .dataframe tbody tr th:only-of-type {\n",
       "        vertical-align: middle;\n",
       "    }\n",
       "\n",
       "    .dataframe tbody tr th {\n",
       "        vertical-align: top;\n",
       "    }\n",
       "\n",
       "    .dataframe thead th {\n",
       "        text-align: right;\n",
       "    }\n",
       "</style>\n",
       "<table border=\"1\" class=\"dataframe\">\n",
       "  <thead>\n",
       "    <tr style=\"text-align: right;\">\n",
       "      <th></th>\n",
       "      <th>user_id</th>\n",
       "      <th>city</th>\n",
       "      <th>state</th>\n",
       "      <th>num_items</th>\n",
       "      <th>total_price</th>\n",
       "      <th>timestamp__order</th>\n",
       "      <th>inbound_uri</th>\n",
       "    </tr>\n",
       "    <tr>\n",
       "      <th>order_number</th>\n",
       "      <th></th>\n",
       "      <th></th>\n",
       "      <th></th>\n",
       "      <th></th>\n",
       "      <th></th>\n",
       "      <th></th>\n",
       "      <th></th>\n",
       "    </tr>\n",
       "  </thead>\n",
       "  <tbody>\n",
       "    <tr>\n",
       "      <th>0</th>\n",
       "      <td>aaron21</td>\n",
       "      <td>Walkerville</td>\n",
       "      <td>Delaware</td>\n",
       "      <td>605</td>\n",
       "      <td>9108</td>\n",
       "      <td>2045-06-23T14:05:41.176704</td>\n",
       "      <td>bag-fast-difficult</td>\n",
       "    </tr>\n",
       "    <tr>\n",
       "      <th>1</th>\n",
       "      <td>jessicajacobs</td>\n",
       "      <td>North Adam</td>\n",
       "      <td>Georgia</td>\n",
       "      <td>252</td>\n",
       "      <td>4860</td>\n",
       "      <td>2025-10-06T02:48:18.176704</td>\n",
       "      <td>those-color-degree</td>\n",
       "    </tr>\n",
       "    <tr>\n",
       "      <th>2</th>\n",
       "      <td>rcombs</td>\n",
       "      <td>West Jaredberg</td>\n",
       "      <td>Mississippi</td>\n",
       "      <td>305</td>\n",
       "      <td>4750</td>\n",
       "      <td>2046-11-03T19:15:02.176704</td>\n",
       "      <td>third-wish-spring</td>\n",
       "    </tr>\n",
       "    <tr>\n",
       "      <th>3</th>\n",
       "      <td>brandon98</td>\n",
       "      <td>Ryanchester</td>\n",
       "      <td>Alaska</td>\n",
       "      <td>440</td>\n",
       "      <td>6402</td>\n",
       "      <td>2038-10-10T12:43:40.176704</td>\n",
       "      <td>produce-might-a</td>\n",
       "    </tr>\n",
       "    <tr>\n",
       "      <th>4</th>\n",
       "      <td>desireegonzales</td>\n",
       "      <td>Thomasshire</td>\n",
       "      <td>Arizona</td>\n",
       "      <td>680</td>\n",
       "      <td>13420</td>\n",
       "      <td>2033-05-02T14:28:03.176704</td>\n",
       "      <td>whole-activity-new</td>\n",
       "    </tr>\n",
       "  </tbody>\n",
       "</table>\n",
       "</div>"
      ],
      "text/plain": [
       "                      user_id            city        state  num_items  \\\n",
       "order_number                                                            \n",
       "0                     aaron21     Walkerville     Delaware        605   \n",
       "1               jessicajacobs      North Adam      Georgia        252   \n",
       "2                      rcombs  West Jaredberg  Mississippi        305   \n",
       "3                   brandon98     Ryanchester       Alaska        440   \n",
       "4             desireegonzales     Thomasshire      Arizona        680   \n",
       "\n",
       "              total_price            timestamp__order         inbound_uri  \n",
       "order_number                                                               \n",
       "0                    9108  2045-06-23T14:05:41.176704  bag-fast-difficult  \n",
       "1                    4860  2025-10-06T02:48:18.176704  those-color-degree  \n",
       "2                    4750  2046-11-03T19:15:02.176704   third-wish-spring  \n",
       "3                    6402  2038-10-10T12:43:40.176704     produce-might-a  \n",
       "4                   13420  2033-05-02T14:28:03.176704  whole-activity-new  "
      ]
     },
     "execution_count": 10,
     "metadata": {},
     "output_type": "execute_result"
    }
   ],
   "source": [
    "summary_by_order.head()"
   ]
  },
  {
   "cell_type": "markdown",
   "id": "4e5e5677",
   "metadata": {},
   "source": [
    "### Encrypting the User ID"
   ]
  },
  {
   "cell_type": "code",
   "execution_count": 11,
   "id": "16c1a4f7",
   "metadata": {},
   "outputs": [
    {
     "data": {
      "text/plain": [
       "19"
      ]
     },
     "execution_count": 11,
     "metadata": {},
     "output_type": "execute_result"
    }
   ],
   "source": [
    "summary_by_order.user_id.map(lambda x: len(x)).max()"
   ]
  },
  {
   "cell_type": "code",
   "execution_count": 12,
   "id": "407ccfcb",
   "metadata": {},
   "outputs": [],
   "source": [
    "import string, random\n",
    "\n",
    "def genkey(length: int):\n",
    "    \"\"\"Generate key.\"\"\"\n",
    "    return \"\".join(random.choice(string.ascii_lowercase + \n",
    "                                 string.ascii_uppercase + \n",
    "                                 string.digits + \n",
    "                                 '[@_!#$%^&*()<>?/\\|}{~:]') for _ in range(length))\n",
    "\n",
    "def xor_strings(s, t):\n",
    "    \"\"\"xor two strings together.\"\"\"\n",
    "    if isinstance(s, str):\n",
    "        # Text strings contain single characters\n",
    "        return \"\".join(chr(ord(a) ^ ord(b)) for a, b in zip(s, t))\n",
    "    else:\n",
    "        # Bytes objects contain integer values in the range 0-255\n",
    "        return bytes([a ^ b for a, b in zip(s, t)])"
   ]
  },
  {
   "cell_type": "code",
   "execution_count": 13,
   "id": "74aa9fbf",
   "metadata": {},
   "outputs": [],
   "source": [
    "my_secret_key = genkey(20)"
   ]
  },
  {
   "cell_type": "code",
   "execution_count": 14,
   "id": "cf7046ae",
   "metadata": {},
   "outputs": [],
   "source": [
    "def xor_username(key, string):\n",
    "    if len(string) < 20:\n",
    "        string += ' ' * (20 - len(string))\n",
    "    return xor_strings(string, key)"
   ]
  },
  {
   "cell_type": "code",
   "execution_count": 15,
   "id": "3b2387ff",
   "metadata": {},
   "outputs": [],
   "source": [
    "summary_by_order['e_user_id'] = summary_by_order.user_id.map(lambda x: xor_username(my_secret_key, x))"
   ]
  },
  {
   "cell_type": "code",
   "execution_count": 16,
   "id": "1faebb61",
   "metadata": {},
   "outputs": [],
   "source": [
    "summary_by_order = summary_by_order.drop(['user_id'], axis=1)"
   ]
  },
  {
   "cell_type": "code",
   "execution_count": 17,
   "id": "51042a80",
   "metadata": {},
   "outputs": [
    {
     "data": {
      "text/plain": [
       "'jessicajacobs       '"
      ]
     },
     "execution_count": 17,
     "metadata": {},
     "output_type": "execute_result"
    }
   ],
   "source": [
    "xor_username(my_secret_key, summary_by_order['e_user_id'][1])"
   ]
  },
  {
   "cell_type": "code",
   "execution_count": null,
   "id": "3b792a65",
   "metadata": {},
   "outputs": [],
   "source": []
  },
  {
   "cell_type": "markdown",
   "id": "50ae7e54",
   "metadata": {},
   "source": [
    "### Key Safety\n",
    "\n",
    "What happens if we change or lose the key? :/ "
   ]
  },
  {
   "cell_type": "code",
   "execution_count": 18,
   "id": "397f84ab",
   "metadata": {},
   "outputs": [],
   "source": [
    "backup = my_secret_key"
   ]
  },
  {
   "cell_type": "code",
   "execution_count": 19,
   "id": "45f618f1",
   "metadata": {},
   "outputs": [],
   "source": [
    "my_secret_key = genkey(20)"
   ]
  },
  {
   "cell_type": "code",
   "execution_count": 20,
   "id": "0c821394",
   "metadata": {},
   "outputs": [
    {
     "data": {
      "text/plain": [
       "'B}|\\x14\"Ba\\x17\\x04\\x1e\\x13b\\x04-GD\\x00L\\n%'"
      ]
     },
     "execution_count": 20,
     "metadata": {},
     "output_type": "execute_result"
    }
   ],
   "source": [
    "xor_username(my_secret_key, summary_by_order['e_user_id'][1])"
   ]
  },
  {
   "cell_type": "markdown",
   "id": "a1e9b9bb",
   "metadata": {},
   "source": [
    "### Finding Bounds and Outliers"
   ]
  },
  {
   "cell_type": "code",
   "execution_count": 21,
   "id": "4e0baf62",
   "metadata": {},
   "outputs": [
    {
     "data": {
      "text/plain": [
       "<AxesSubplot:>"
      ]
     },
     "execution_count": 21,
     "metadata": {},
     "output_type": "execute_result"
    },
    {
     "data": {
      "image/png": "[encoded data removed]",
      "text/plain": [
       "<Figure size 640x480 with 1 Axes>"
      ]
     },
     "metadata": {},
     "output_type": "display_data"
    }
   ],
   "source": [
    "summary_by_order.total_price.hist(bins=80)"
   ]
  },
  {
   "cell_type": "code",
   "execution_count": 22,
   "id": "479358b2",
   "metadata": {},
   "outputs": [
    {
     "data": {
      "text/plain": [
       "<AxesSubplot:>"
      ]
     },
     "execution_count": 22,
     "metadata": {},
     "output_type": "execute_result"
    },
    {
     "data": {
      "image/png": "[encoded data removed]",
      "text/plain": [
       "<Figure size 640x480 with 1 Axes>"
      ]
     },
     "metadata": {},
     "output_type": "display_data"
    }
   ],
   "source": [
    "summary_by_order['z-score'] = stats.zscore(list(summary_by_order.total_price))\n",
    "\n",
    "summary_by_order['z-score'].hist(bins=100)"
   ]
  },
  {
   "cell_type": "code",
   "execution_count": 23,
   "id": "79e27250",
   "metadata": {},
   "outputs": [
    {
     "data": {
      "text/plain": [
       "city                7\n",
       "state               7\n",
       "num_items           7\n",
       "total_price         7\n",
       "timestamp__order    7\n",
       "inbound_uri         7\n",
       "e_user_id           7\n",
       "z-score             7\n",
       "dtype: int64"
      ]
     },
     "execution_count": 23,
     "metadata": {},
     "output_type": "execute_result"
    }
   ],
   "source": [
    "summary_by_order[summary_by_order.total_price > 27000].count()"
   ]
  },
  {
   "cell_type": "code",
   "execution_count": 24,
   "id": "087cffa9",
   "metadata": {},
   "outputs": [
    {
     "data": {
      "text/plain": [
       "city                5\n",
       "state               5\n",
       "num_items           5\n",
       "total_price         5\n",
       "timestamp__order    5\n",
       "inbound_uri         5\n",
       "e_user_id           5\n",
       "z-score             5\n",
       "dtype: int64"
      ]
     },
     "execution_count": 24,
     "metadata": {},
     "output_type": "execute_result"
    }
   ],
   "source": [
    "summary_by_order[summary_by_order.total_price < 1500].count()"
   ]
  },
  {
   "cell_type": "code",
   "execution_count": 25,
   "id": "18cea16c",
   "metadata": {},
   "outputs": [],
   "source": [
    "def remove_order_outliers(total):\n",
    "    if total > 27000 or total < 1500:\n",
    "        # NOTE: we want to watch this over time if we rerun the report and make sure it is fitting.\n",
    "        # We could also normalize the data and use Interquartile Range (IQR) or Z-Scores \n",
    "        return True\n",
    "    return False"
   ]
  },
  {
   "cell_type": "code",
   "execution_count": 26,
   "id": "8c1e323b",
   "metadata": {},
   "outputs": [],
   "source": [
    "summary_by_order['remove'] = summary_by_order.total_price.map(remove_order_outliers)"
   ]
  },
  {
   "cell_type": "code",
   "execution_count": 27,
   "id": "1f98c0c0",
   "metadata": {},
   "outputs": [
    {
     "data": {
      "text/plain": [
       "city                1000\n",
       "state               1000\n",
       "num_items           1000\n",
       "total_price         1000\n",
       "timestamp__order    1000\n",
       "inbound_uri         1000\n",
       "e_user_id           1000\n",
       "z-score             1000\n",
       "remove              1000\n",
       "dtype: int64"
      ]
     },
     "execution_count": 27,
     "metadata": {},
     "output_type": "execute_result"
    }
   ],
   "source": [
    "summary_by_order.count()"
   ]
  },
  {
   "cell_type": "code",
   "execution_count": 28,
   "id": "0520e4a8",
   "metadata": {},
   "outputs": [],
   "source": [
    "summary_by_order = summary_by_order[summary_by_order['remove'] == False]"
   ]
  },
  {
   "cell_type": "code",
   "execution_count": 29,
   "id": "828ac8d4",
   "metadata": {},
   "outputs": [],
   "source": [
    "summary_by_order = summary_by_order.drop(['remove'], axis=1)"
   ]
  },
  {
   "cell_type": "markdown",
   "id": "0224a542",
   "metadata": {},
   "source": [
    "### Getting started with Great Expectations"
   ]
  },
  {
   "cell_type": "code",
   "execution_count": null,
   "id": "f6934e11",
   "metadata": {},
   "outputs": [],
   "source": [
    "import great_expectations as ge\n",
    "context = ge.get_context()"
   ]
  },
  {
   "cell_type": "code",
   "execution_count": null,
   "id": "5b60254a",
   "metadata": {},
   "outputs": [],
   "source": [
    "ge_df = ge.from_pandas(summary_by_order)"
   ]
  },
  {
   "cell_type": "code",
   "execution_count": null,
   "id": "22198399",
   "metadata": {},
   "outputs": [],
   "source": [
    "ge_df.expect_column_values_to_be_between('total_price', 1500, 27000)"
   ]
  },
  {
   "cell_type": "code",
   "execution_count": null,
   "id": "b8210b0a",
   "metadata": {},
   "outputs": [],
   "source": [
    "ge_df.get_expectation_suite(discard_failed_expectations=False)\n"
   ]
  },
  {
   "cell_type": "code",
   "execution_count": null,
   "id": "e4f8887f",
   "metadata": {},
   "outputs": [],
   "source": [
    "import json\n",
    "with open(\"order_summary_for_sharing_expecation_file.json\", \"w\") as my_file:    \n",
    "    my_file.write(        \n",
    "        json.dumps(ge_df.get_expectation_suite().to_json_dict())\n",
    "    )"
   ]
  },
  {
   "cell_type": "code",
   "execution_count": null,
   "id": "1aa7c622",
   "metadata": {},
   "outputs": [],
   "source": [
    "summary_by_order.to_csv('data/order_summary_for_sharing.csv')"
   ]
  },
  {
   "cell_type": "markdown",
   "id": "f0d16950",
   "metadata": {},
   "source": [
    "### Challenges\n",
    "\n",
    "- Document the above pipeline and its privacy constraints in a text and graphic form, as if you would share it with fellow stakeholders. What is important for them to know? How can you communicate it to them concisely?\n",
    "- How would you test to ensure that differential privacy mechanism was used? How could you validate and audit pipelines that use anonymization?"
   ]
  },
  {
   "cell_type": "code",
   "execution_count": null,
   "id": "b0cea6e7",
   "metadata": {},
   "outputs": [],
   "source": []
  }
 ],
 "metadata": {
  "kernelspec": {
   "display_name": "Python 3 (ipykernel)",
   "language": "python",
   "name": "python3"
  },
  "language_info": {
   "codemirror_mode": {
    "name": "ipython",
    "version": 3
   },
   "file_extension": ".py",
   "mimetype": "text/x-python",
   "name": "python",
   "nbconvert_exporter": "python",
   "pygments_lexer": "ipython3",
   "version": "3.9.13"
  }
 },
 "nbformat": 4,
 "nbformat_minor": 5
}
