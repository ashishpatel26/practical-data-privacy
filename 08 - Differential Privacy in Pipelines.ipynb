{
 "cells": [
  {
   "cell_type": "code",
   "execution_count": null,
   "id": "174e248f",
   "metadata": {},
   "outputs": [],
   "source": [
    "import matplotlib.pyplot as plt\n",
    "import os\n",
    "import requests\n",
    "import pandas as pd\n",
    "import seaborn as sns\n",
    "\n",
    "from pyspark.sql import SparkSession\n",
    "from tmlt.analytics.keyset import KeySet\n",
    "from tmlt.analytics.privacy_budget import PureDPBudget\n",
    "from tmlt.analytics.query_builder import QueryBuilder, ColumnType, BinningSpec\n",
    "from tmlt.analytics.session import Session\n",
    "\n",
    "\n",
    "spark = SparkSession.builder.getOrCreate()\n",
    "members_df = spark.read.csv(\"data/members.csv\", header=True, inferSchema=True)\n"
   ]
  },
  {
   "cell_type": "code",
   "execution_count": null,
   "id": "5d4a6356",
   "metadata": {},
   "outputs": [],
   "source": [
    "session = Session.from_dataframe(\n",
    "    privacy_budget=PureDPBudget(epsilon=1.1),\n",
    "    source_id=\"members\",\n",
    "    dataframe=members_df,\n",
    ")"
   ]
  },
  {
   "cell_type": "code",
   "execution_count": null,
   "id": "8099aadb",
   "metadata": {},
   "outputs": [],
   "source": [
    "members_df.columns"
   ]
  },
  {
   "cell_type": "markdown",
   "id": "ce138f54",
   "metadata": {},
   "source": [
    "I'm curious if there is a correlation between education_level and books_borrowed. Let's take a look!"
   ]
  },
  {
   "cell_type": "code",
   "execution_count": null,
   "id": "0ed5f259",
   "metadata": {},
   "outputs": [],
   "source": [
    "members_df.select(\"education_level\").distinct().show(truncate=False)"
   ]
  },
  {
   "cell_type": "markdown",
   "id": "69a269a1",
   "metadata": {},
   "source": [
    "I first need to build a KeySet with the values I'd like to use..."
   ]
  },
  {
   "cell_type": "code",
   "execution_count": null,
   "id": "a43879ef",
   "metadata": {},
   "outputs": [],
   "source": [
    "edu_levels = KeySet.from_dict({\n",
    "    \"education_level\": [\n",
    "        \"up-to-high-school\",\n",
    "        \"high-school-diploma\",\n",
    "        \"bachelors-associate\",\n",
    "        \"masters-degree\",\n",
    "        \"doctorate-professional\",\n",
    "    ]\n",
    "})"
   ]
  },
  {
   "cell_type": "markdown",
   "id": "b6780465",
   "metadata": {},
   "source": [
    "Now I can use the QueryBuilder to group by education and then give an average. Here I am binning the number of books borrowed between 0 and 100."
   ]
  },
  {
   "cell_type": "code",
   "execution_count": null,
   "id": "1121c6f6",
   "metadata": {},
   "outputs": [],
   "source": [
    "edu_average_books_query = (\n",
    "    QueryBuilder(\"members\")\n",
    "    .groupby(edu_levels)\n",
    "    .average(\"books_borrowed\", low=0, high=100)\n",
    ")\n",
    "edu_average_books = session.evaluate(\n",
    "    edu_average_books_query,\n",
    "    privacy_budget=PureDPBudget(0.6),\n",
    ")\n",
    "edu_average_books.sort(\"books_borrowed_average\").show(truncate=False)\n"
   ]
  },
  {
   "cell_type": "markdown",
   "id": "638865ea",
   "metadata": {},
   "source": [
    "There doesn't seem to be any correlation to find here! I wonder if age might be a better indicator, maybe even connected with an education level?\n",
    "\n",
    "To take a look, I first want to create age groups by binning the age in ranges."
   ]
  },
  {
   "cell_type": "code",
   "execution_count": null,
   "id": "f9452e97",
   "metadata": {},
   "outputs": [],
   "source": [
    "age_binspec = BinningSpec([10*i for i in range(0, 11)])\n",
    "\n",
    "age_bin_keys = KeySet.from_dict({\n",
    "    \"age_binned\": age_binspec.bins()\n",
    "})"
   ]
  },
  {
   "cell_type": "markdown",
   "id": "63ec8c75",
   "metadata": {},
   "source": [
    "Now I can filter and group by age... Here I am singling out those with masters or doctorates and I am using a new bounds for my books borrowed as I think 100 was too high!"
   ]
  },
  {
   "cell_type": "code",
   "execution_count": null,
   "id": "32687da6",
   "metadata": {},
   "outputs": [],
   "source": [
    "binned_age_with_filter_query = QueryBuilder(\"members\")\\\n",
    "      .filter(\"education_level='masters-degree' or education_level='doctorate-professional'\")\\\n",
    "      .bin_column(\"age\", age_binspec)\\\n",
    "      .groupby(age_bin_keys)\\\n",
    "      .average(\"books_borrowed\", low=0, high=22)\n",
    "\n",
    "session.evaluate(binned_age_with_filter_query, privacy_budget=PureDPBudget(0.4)).show(truncate=False)"
   ]
  },
  {
   "cell_type": "markdown",
   "id": "99c4eaaa",
   "metadata": {},
   "source": [
    "Oye! I can see that there is a lot of noise added to some of these columns. What did I do wrong? In this case, I filtered on age and did not take into account that some of the age groups represented would likely be underrepresented in my filter. The likelihood that a 8 year old has a masters degree is quite small...\n",
    "\n",
    "In the future, I might run a query like the following first! Getting an idea for books borrowed by age before filtering... :)"
   ]
  },
  {
   "cell_type": "code",
   "execution_count": null,
   "id": "fc68b744",
   "metadata": {},
   "outputs": [],
   "source": [
    "binned_age_query = QueryBuilder(\"members\")\\\n",
    "    .bin_column(\"age\", age_binspec)\\\n",
    "    .groupby(age_bin_keys)\\\n",
    "    .average(\"books_borrowed\", low=0, high=22)\n",
    "\n",
    "session.evaluate(binned_age_query, privacy_budget=PureDPBudget(0.1)).show(truncate=False)"
   ]
  },
  {
   "cell_type": "markdown",
   "id": "1c01a54e",
   "metadata": {},
   "source": [
    "Or even just looking at a count...."
   ]
  },
  {
   "cell_type": "markdown",
   "id": "bf057a2c",
   "metadata": {},
   "source": [
    "Oh no! I ran out of budget!\n",
    "\n",
    "Good news: Tumult Labs has a bunch of notebooks to try out with this dataset and there is an option to set your budget to inifinity as you play around and get to know the library. That said, when you are using Tumult or any differential privacy library in production, you'll need to first make real decisions on your queries and budget! \n",
    "\n",
    "Take a look at their tutorials and happy privacying!"
   ]
  },
  {
   "cell_type": "code",
   "execution_count": null,
   "id": "cdf4f56a",
   "metadata": {},
   "outputs": [],
   "source": []
  }
 ],
 "metadata": {
  "kernelspec": {
   "display_name": "Python 3 (ipykernel)",
   "language": "python",
   "name": "python3"
  },
  "language_info": {
   "codemirror_mode": {
    "name": "ipython",
    "version": 3
   },
   "file_extension": ".py",
   "mimetype": "text/x-python",
   "name": "python",
   "nbconvert_exporter": "python",
   "pygments_lexer": "ipython3",
   "version": "3.7.13"
  }
 },
 "nbformat": 4,
 "nbformat_minor": 5
}
