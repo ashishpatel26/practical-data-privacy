{
 "cells": [
  {
   "cell_type": "markdown",
   "id": "280b47fe",
   "metadata": {},
   "source": [
    "### Experimenting with Differential Privacy and Bayesian Reasoning\n",
    "\n",
    "This notebook explores how we can develop Bayesian priors when working with differential privacy. It is a work in progress!"
   ]
  },
  {
   "cell_type": "code",
   "execution_count": 1,
   "id": "4d951b7a",
   "metadata": {},
   "outputs": [],
   "source": [
    "import numpy as np\n",
    "import matplotlib.pyplot as plt\n",
    "from math import e, exp, log, sqrt\n",
    "from scipy.stats import norm\n",
    "plt.style.use('ggplot')\n",
    "\n",
    "np.random.seed(42)\n",
    "%matplotlib inline"
   ]
  },
  {
   "cell_type": "code",
   "execution_count": 4,
   "id": "583342cc",
   "metadata": {},
   "outputs": [],
   "source": [
    "# Function definitions\n",
    "\n",
    "gaussianSigmaAccuracy = 1e-3\n",
    "\n",
    "def delta_for_gaussian(sigma, l0_sensitivity, linf_sensitivity, epsilon):\n",
    "    l2_sensitivity = linf_sensitivity * sqrt(l0_sensitivity)\n",
    "    a = l2_sensitivity / (2*sigma)\n",
    "    b = epsilon * sigma / l2_sensitivity\n",
    "    c = exp(epsilon)\n",
    "    \n",
    "    if np.isinf(c): \n",
    "        return 0\n",
    "    if np.isinf(b):\n",
    "        return 0\n",
    "    return norm.cdf (a-b) - norm.cdf(-a-b)\n",
    "\n",
    "def sigma_for_gaussian(l0_sensitivity, linf_sensitivity, epsilon, delta):\n",
    "    if delta >=1:\n",
    "        return 0\n",
    "    \n",
    "    l2_sensitivity = linf_sensitivity * sqrt(l0_sensitivity)\n",
    "    upper_bound = l2_sensitivity\n",
    "    \n",
    "    while delta_for_gaussian(upper_bound, l0_sensitivity, linf_sensitivity, epsilon) > delta:\n",
    "        lower_bound = upper_bound\n",
    "        upper_bound = upper_bound * 2\n",
    "    \n",
    "    while upper_bound - lower_bound > gaussianSigmaAccuracy * lower_bound:\n",
    "        middle = lower_bound * 0.5 + upper_bound * 0.5\n",
    "        if delta_for_gaussian(middle, l0_sensitivity, linf_sensitivity, epsilon) > delta:\n",
    "            lower_bound = middle\n",
    "        else:\n",
    "            upper_bound = middle\n",
    "            \n",
    "    return upper_bound\n",
    "\n",
    "def gaussian_dp_mechanism(value, epsilon, delta, linf_sensitivity, l0_sensitivity=1):\n",
    "    # Please do not use this function in real life - it is susceptible to well known attacks\n",
    "    # instead, use a well-known and audited open-source DP library \n",
    "    orig_value = value\n",
    "    gauss_scale = sigma_for_gaussian(l0_sensitivity, linf_sensitivity, epsilon, delta)\n",
    "    value = np.random.normal(value, gauss_scale)\n",
    "    print(\"Noise: {}\".format(value - orig_value))\n",
    "    return value\n",
    "\n",
    "def laplace_dp_mechanism(value, epsilon, linf_sensitivity):\n",
    "    # Please do not use this function in real life - it is susceptible to well known attacks\n",
    "    # instead, use a well-known and audited open-source DP library \n",
    "    orig_value = value\n",
    "    value =  np.random.laplace(value, linf_sensitivity/epsilon)\n",
    "    #print(\"Noise: {}\".format(value - orig_value))\n",
    "    return value"
   ]
  },
  {
   "cell_type": "code",
   "execution_count": 6,
   "id": "50de83a3",
   "metadata": {},
   "outputs": [],
   "source": [
    "mid_level_age = 45\n",
    "mid_level_salary = 50000\n",
    "\n",
    "age_scale = 10 #scale represents one standard deviation\n",
    "salary_scale = 10000\n",
    "\n",
    "salaries = [round(np.random.normal(mid_level_salary,salary_scale)) for _ in range(1000)]\n",
    "ages = [round(np.random.normal(mid_level_age,age_scale)) for _ in range(1000)]"
   ]
  },
  {
   "cell_type": "code",
   "execution_count": null,
   "id": "5641a70f",
   "metadata": {},
   "outputs": [],
   "source": [
    "#TODO: run experiments!"
   ]
  },
  {
   "cell_type": "code",
   "execution_count": null,
   "id": "1f66d1b5",
   "metadata": {},
   "outputs": [],
   "source": [
    "#TODO: data chart on relative error"
   ]
  },
  {
   "cell_type": "code",
   "execution_count": null,
   "id": "78f5f0ee",
   "metadata": {},
   "outputs": [],
   "source": [
    "#TODO: Bayesian prior development"
   ]
  }
 ],
 "metadata": {
  "kernelspec": {
   "display_name": "Python 3 (ipykernel)",
   "language": "python",
   "name": "python3"
  },
  "language_info": {
   "codemirror_mode": {
    "name": "ipython",
    "version": 3
   },
   "file_extension": ".py",
   "mimetype": "text/x-python",
   "name": "python",
   "nbconvert_exporter": "python",
   "pygments_lexer": "ipython3",
   "version": "3.8.9"
  }
 },
 "nbformat": 4,
 "nbformat_minor": 5
}
