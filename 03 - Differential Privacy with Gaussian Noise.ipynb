{
 "cells": [
  {
   "cell_type": "code",
   "execution_count": null,
   "metadata": {},
   "outputs": [],
   "source": [
    "import numpy as np\n",
    "import matplotlib.pyplot as plt\n",
    "from math import e, exp, log, sqrt\n",
    "from scipy.stats import norm\n",
    "plt.style.use('ggplot')\n",
    "\n",
    "np.random.seed(42)\n",
    "%matplotlib inline"
   ]
  },
  {
   "cell_type": "markdown",
   "metadata": {},
   "source": [
    "In this notebook, we'll explore using Gaussian noise to provide differential privacy guarantees. It has some nice properties, including the fact that we are used to reasoning about normally distributed error/noise!\n",
    "\n",
    "Let's use our same dataset to get an idea and compare between these different implementations of differential privacy. "
   ]
  },
  {
   "cell_type": "code",
   "execution_count": null,
   "metadata": {},
   "outputs": [],
   "source": [
    "mid_level_age = 45\n",
    "mid_level_salary = 50000\n",
    "\n",
    "age_scale = 10 #scale represents one standard deviation\n",
    "salary_scale = 10000\n",
    "\n",
    "salaries = [round(np.random.normal(mid_level_salary,salary_scale)) for _ in range(100)]\n",
    "ages = [round(np.random.normal(mid_level_age,age_scale)) for _ in range(100)]"
   ]
  },
  {
   "cell_type": "code",
   "execution_count": null,
   "metadata": {},
   "outputs": [],
   "source": [
    "plt.hist(ages, bins=20);"
   ]
  },
  {
   "cell_type": "code",
   "execution_count": null,
   "metadata": {},
   "outputs": [],
   "source": [
    "plt.hist(salaries, bins=20);"
   ]
  },
  {
   "cell_type": "code",
   "execution_count": null,
   "metadata": {},
   "outputs": [],
   "source": [
    "loc = 0\n",
    "scale = 20\n",
    "\n",
    "x = np.arange(-50., 50., 0.1)\n",
    "pdf = norm.pdf(x, loc, scale)\n",
    "\n",
    "fig,ax= plt.subplots()\n",
    "ax.plot(x, pdf)\n",
    "ax.set_title('Gaussian Probability Density Function')\n",
    "ax.set_xlabel('actual number')\n",
    "ax.set_ylabel('probability density');"
   ]
  },
  {
   "cell_type": "markdown",
   "metadata": {},
   "source": [
    "In order to scale our Gaussian distribution to meet differential privacy guarantees, we need to define our sensitivity, delta and epsilon. Let's keep it close to our prior notebook (with the exception that Laplace never needs Delta!). \n",
    "\n",
    "NOTE: This formula is only good for epsilon < 1 and is not as optimized (i.e. it adds more noise than necessary to meet the guarantees!). For real problems, please use a well-reviewed differential privacy library."
   ]
  },
  {
   "cell_type": "code",
   "execution_count": null,
   "metadata": {},
   "outputs": [],
   "source": [
    "sensitivity=1\n",
    "delta = 10**-5\n",
    "epsilon=0.99\n",
    "sigma_squared = (2*sensitivity**2*log(1.25/delta))/epsilon**2 \n",
    "sigma_squared"
   ]
  },
  {
   "cell_type": "code",
   "execution_count": null,
   "metadata": {},
   "outputs": [],
   "source": [
    "loc = 0\n",
    "scale = sqrt(sigma_squared)\n",
    "\n",
    "x = np.arange(-50., 50., 0.1)\n",
    "pdf = norm.pdf(x, loc, scale)\n",
    "\n",
    "fig,ax= plt.subplots()\n",
    "ax.plot(x, pdf)\n",
    "ax.set_title('Gaussian Probability Density Function')\n",
    "ax.set_xlabel('actual number')\n",
    "ax.set_ylabel('probability density');"
   ]
  },
  {
   "cell_type": "markdown",
   "metadata": {},
   "source": [
    "This is a great time to remind ourselves that sensitivity for the Gaussian mechanism is different! (More on this in a minute!)\n"
   ]
  },
  {
   "cell_type": "markdown",
   "metadata": {},
   "source": [
    "### Gaussian DP Mechanism\n",
    "\n",
    "Let's now implement a toy-example, please do not use this in real life! Instead, use a properly audited and well-known open-source library. :)"
   ]
  },
  {
   "cell_type": "code",
   "execution_count": null,
   "metadata": {},
   "outputs": [],
   "source": [
    "epsilon = 0.99 # Must be less than 1 to use this implementation!\n",
    "sensitivity = 1 \n",
    "delta=10**-5\n",
    "\n",
    "\n",
    "def gaussian_dp_mechanism(value, epsilon, sensitivity=sensitivity):\n",
    "    # Please do not use this function in real life - it is susceptible to well known attacks\n",
    "    # instead, use a well-known and audited open-source DP library \n",
    "    orig_value = value\n",
    "    gauss_scale = sqrt((2*sensitivity**2*log(1.25/delta))/epsilon**2)\n",
    "    value =  np.random.normal(value, gauss_scale)\n",
    "    print(\"Noise: {}\".format(value - orig_value))\n",
    "    return value"
   ]
  },
  {
   "cell_type": "code",
   "execution_count": null,
   "metadata": {},
   "outputs": [],
   "source": [
    "gaussian_dp_mechanism(len(ages), epsilon)"
   ]
  },
  {
   "cell_type": "code",
   "execution_count": null,
   "metadata": {},
   "outputs": [],
   "source": [
    "def filter_bounds(value, lower_bound, upper_bound):\n",
    "    if value < lower_bound:\n",
    "        return lower_bound\n",
    "    elif value > upper_bound:\n",
    "        return upper_bound\n",
    "    return value"
   ]
  },
  {
   "cell_type": "markdown",
   "metadata": {},
   "source": [
    "What about if we want to answer a more complicated query, like a sum? We need to know exactly how much one person can affect our outcome. Since we know this is a dataset of working persons, we might choose upper and lower bounds to artificially limit the amount that one person can affect the dataset. \n",
    "\n",
    "Let's take a look at how that might work with our ages!"
   ]
  },
  {
   "cell_type": "code",
   "execution_count": null,
   "metadata": {},
   "outputs": [],
   "source": [
    "bounded_ages = [filter_bounds(age, 20, 70) for age in ages]"
   ]
  },
  {
   "cell_type": "code",
   "execution_count": null,
   "metadata": {},
   "outputs": [],
   "source": [
    "gaussian_dp_mechanism(np.sum(bounded_ages), epsilon, sensitivity=50)"
   ]
  },
  {
   "cell_type": "code",
   "execution_count": null,
   "metadata": {},
   "outputs": [],
   "source": [
    "sum(ages)"
   ]
  },
  {
   "cell_type": "markdown",
   "metadata": {},
   "source": [
    "And we can see how we want to spend our budget and adjust. Our count has lower sensitivity, so we will spend less on it. Of course, you may need to adjust your queries not only based on sensitivity, but also how accurate you want your query result to be!"
   ]
  },
  {
   "cell_type": "code",
   "execution_count": null,
   "metadata": {},
   "outputs": [],
   "source": [
    "epsilon_for_sum = 0.5\n",
    "epsilon_for_count = 0.5\n",
    "summed_ages = gaussian_dp_mechanism(np.sum(bounded_ages), epsilon_for_sum, sensitivity=50)\n",
    "count_ages = gaussian_dp_mechanism(len(bounded_ages), epsilon_for_count, sensitivity=1)\n",
    "\n",
    "mean_age = summed_ages / count_ages\n",
    "mean_age"
   ]
  },
  {
   "cell_type": "markdown",
   "metadata": {},
   "source": [
    "So far, we've measured sensitivity by figuring out how much one person can affect a result. But there is actually a second dimension to sensitivity: how many different statistics can a user influence? This is called `l0`, while the concept we've been working on up to this point is called `l_inf`. \n",
    "\n",
    "For example, if users are logging in and reading their email and we want to calculate average reading time per email -- a prolific user could end up adding 100s or 1000s or read times per day. Another user might just read one email or less per day. These users have much different privacy loss in the overall average, even if we do bound the reading time of any single email using `linf_sensitivity`.\n"
   ]
  },
  {
   "cell_type": "markdown",
   "metadata": {},
   "source": [
    "### Comparing Laplace and Gaussian Noise\n",
    "\n",
    "Let's take a look at how Laplace and Gaussian noise compare with one another. To do so, we'll want to analyze how many distinct statistics a user can affect (this is also the `l0_sensitivity`). In this example, we'll use a better approximation for the Gaussian noise.\n",
    "\n",
    "NOTE: These functions were built based on [the Google Differential Privacy Library implementation of Gaussian noise.](https://github.com/google/differential-privacy/blob/0e95b99af5fedff95b8cab3739009bbc1366c068/go/noise/gaussian_noise.go)"
   ]
  },
  {
   "cell_type": "code",
   "execution_count": null,
   "metadata": {},
   "outputs": [],
   "source": [
    "def delta_for_gaussian(sigma, l0_sensitivity, linf_sensitivity, epsilon):\n",
    "    l2_sensitivity = linf_sensitivity * sqrt(l0_sensitivity)\n",
    "    a = l2_sensitivity / (2*sigma)\n",
    "    b = epsilon * sigma / l2_sensitivity\n",
    "    c = exp(epsilon)\n",
    "    \n",
    "    if np.isinf(c): \n",
    "        return 0\n",
    "    if np.isinf(b):\n",
    "        return 0\n",
    "    return norm.cdf (a-b) - norm.cdf(-a-b)"
   ]
  },
  {
   "cell_type": "code",
   "execution_count": null,
   "metadata": {},
   "outputs": [],
   "source": [
    "gaussianSigmaAccuracy = 1e-3\n",
    "\n",
    "def sigma_for_gaussian(l0_sensitivity, linf_sensitivity, epsilon, delta):\n",
    "    if delta >=1:\n",
    "        return 0\n",
    "    \n",
    "    l2_sensitivity = linf_sensitivity * sqrt(l0_sensitivity)\n",
    "    upper_bound = l2_sensitivity\n",
    "    \n",
    "    while delta_for_gaussian(upper_bound, l0_sensitivity, linf_sensitivity, epsilon) > delta:\n",
    "        lower_bound = upper_bound\n",
    "        upper_bound = upper_bound * 2\n",
    "    \n",
    "    while upper_bound - lower_bound > gaussianSigmaAccuracy * lower_bound:\n",
    "        middle = lower_bound * 0.5 + upper_bound * 0.5\n",
    "        if delta_for_gaussian(middle, l0_sensitivity, linf_sensitivity, epsilon) > delta:\n",
    "            lower_bound = middle\n",
    "        else:\n",
    "            upper_bound = middle\n",
    "            \n",
    "    return upper_bound"
   ]
  },
  {
   "cell_type": "code",
   "execution_count": null,
   "metadata": {},
   "outputs": [],
   "source": [
    "epsilon = 1\n",
    "delta = 10**-5"
   ]
  },
  {
   "cell_type": "code",
   "execution_count": null,
   "metadata": {},
   "outputs": [],
   "source": [
    "l0_sensitivity = 1 # Number of statistics one user influences\n",
    "linf_sensitivity = 5\n",
    "\n",
    "laplace_std_dev = sqrt(2)*l0_sensitivity*linf_sensitivity\n",
    "gauss_std_dev = sigma_for_gaussian(l0_sensitivity, linf_sensitivity, \n",
    "                                   epsilon, delta)"
   ]
  },
  {
   "cell_type": "code",
   "execution_count": null,
   "metadata": {},
   "outputs": [],
   "source": [
    "gauss_std_dev"
   ]
  },
  {
   "cell_type": "code",
   "execution_count": null,
   "metadata": {},
   "outputs": [],
   "source": [
    "laplace_std_dev"
   ]
  },
  {
   "cell_type": "code",
   "execution_count": null,
   "metadata": {},
   "outputs": [],
   "source": [
    "x = np.arange(1., 20, 1)\n",
    "fig,ax= plt.subplots()\n",
    "\n",
    "laplace_stddev = sqrt(2)*x\n",
    "ax.plot(x, laplace_stddev , label='Laplace')\n",
    "\n",
    "\n",
    "gauss_std_dev = [sqrt(sigma_for_gaussian(l0, sensitivity, epsilon, delta)) for l0 in x]\n",
    "ax.plot(x, gauss_std_dev, label='Gaussian')\n",
    "    \n",
    "ax.set_xlabel('l0 sensitivity')\n",
    "ax.set_ylabel('standard deviations')\n",
    "ax.legend()"
   ]
  },
  {
   "cell_type": "code",
   "execution_count": null,
   "metadata": {},
   "outputs": [],
   "source": []
  },
  {
   "cell_type": "code",
   "execution_count": null,
   "metadata": {},
   "outputs": [],
   "source": []
  }
 ],
 "metadata": {
  "kernelspec": {
   "display_name": "Python 3",
   "language": "python",
   "name": "python3"
  },
  "language_info": {
   "codemirror_mode": {
    "name": "ipython",
    "version": 3
   },
   "file_extension": ".py",
   "mimetype": "text/x-python",
   "name": "python",
   "nbconvert_exporter": "python",
   "pygments_lexer": "ipython3",
   "version": "3.8.10"
  }
 },
 "nbformat": 4,
 "nbformat_minor": 5
}
